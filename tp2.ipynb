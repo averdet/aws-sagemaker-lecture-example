{
 "cells": [
  {
   "cell_type": "markdown",
   "metadata": {
    "id": "4mh2MiuVMazk"
   },
   "source": [
    "# TP2 - Market Basket Analysis \n",
    "INF8111 - Fouille de données, Automne 2021\n",
    "### Membres de l'équipe\n",
    "    - Verdet Alexandre (2164847) 1\n"
   ]
  },
  {
   "cell_type": "markdown",
   "metadata": {
    "id": "VmJEz5JEMazl"
   },
   "source": [
    "## Date et directives de remise\n",
    "Vous remettrez ce fichier nommé TP2\\_NomDuMembre1\\_NomDuMembre2\\_NomDuMembre3.ipynb dans la boîte de remise sur moodle. \n",
    "\n",
    "**Date limite: October 31 at 23:55**.\n",
    "\n",
    "\n",
    "## Market Basket Analysis\n",
    "\n",
    "Le *Market Basket Analysis* (MBA) est une technique d'analyse de la fouille de données qui permet de découvrir les associations entre les produits ou leur regroupement. En explorant des motifs intéressants à partir d'une vaste collection de données, le MBA vise à comprendre / révéler les comportements d'achat des clients en se basant sur la théorie selon laquelle si vous avez acheté un certain ensemble de produits, vous êtes plus (ou moins) susceptible d'acheter un autre groupe de produits. En d'autres termes, le MBA permet aux détaillants d'identifier la relation entre les articles que les clients achètent, révélant des tendances d'articles souvent achetés ensemble.\n",
    "\n",
    "Une approche largement utilisée pour explorer ces motifs consiste à construire *** des règles d'association *** telles que\n",
    "- **si** acheté *ITEM_1* **alors** achètera *ITEM_2* avec **confiance** *X*.\n",
    "\n",
    "Ces associations n'ont pas à être des règles individuelles. Ils peuvent impliquer de nombreux éléments. Par exemple, une personne dans un supermarché peut ajouter des œufs dans son panier, puis le MBA peut suggérer qu'elle achètera également du pain et/ou de la farine:\n",
    "\n",
    "+ **si**  acheté *OEUFS* **alors** achètera [*PAIN* avec confiance *0,2*; *FARINE* avec confiance 0,05].\n",
    "\n",
    "Cependant, si la personne décide maintenant d'ajouter de la farine à son panier, la nouvelle règle d'association pourrait être comme ci-dessous, suggérant des ingrédients pour faire un gâteau.\n",
    "\n",
    "+ **si** acheté [*OEUFS, FARINE*] **alors** achètera [*SUCRE* avec confiance 0,45; LEVURE avec confiance 0,12; *PAIN* avec confiance *0,03*].\n",
    "\n",
    "Il existe de nombreux scénarios réels où le MBA joue un rôle central dans l'analyse des données, comme les transactions de supermarché, les commandes en ligne ou l'historique des cartes de crédit. Les spécialistes du marketing peuvent utiliser ces règles d'association pour organiser les produits corrélés plus près les uns des autres sur les étagères des magasins ou faire des suggestions en ligne afin que les clients achètent plus d'articles. Un MBA peut généralement aider les détaillants à répondre aux questions les suivantes:\n",
    "\n",
    "- Quels articles sont souvent achetés ensemble ?\n",
    "- Étant donné un panier, quels articles suggérer ?\n",
    "- Comment placer les articles ensemble sur les étagères ?\n",
    "\n",
    "### Objectif\n",
    "\n",
    "Votre objectif dans ce TP est de développer un algorithme MBA pour révéler les motifs en créant des règles d'association dans un ensemble de données volumineux avec plus de trois millions de transactions de supermarché. Cependant, la collecte de règles d'association dans les grands ensembles de données est un problème très intensif en calcul, ce qui rend presque impossible leur exécution sans système distribué. Par conséquent, pour exécuter votre algorithme, vous aurez accès à un cluster de *cloud computing* distribué avec des centaines de cœurs.\n",
    "\n",
    "À cette fin, un algorithme **MapReduce** sera implémenté avec le framework [Apache Spark](http://spark.apache.org), un système informatique distribué rapide. En résumé, Spark est un framework open source conçu avec une méthodologie *scale-out* qui en fait un outil très puissant pour les programmeurs ou les développeurs d'applications pour effectuer un volume massif de calculs et de traitement de données dans des environnements distribués. Spark fournit des API de haut niveau qui facilitent la création d'applications parallèles sans avoir à se soucier de la façon dont votre code et vos données sont parallélisés / distribués par le cluster informatique. Spark fait tout pour vous.\n",
    "\n",
    "La mise en œuvre suivra l'algorithme d'analyse du panier de marché présenté par Jongwook Woo et Yuhang Xu (2012). L'image **workflow.pdf** illustre le flux de travail de l'algorithme et doit être utilisée pour consultation tout au long de ce TP. Les cases bleues sont celles où vous devez implémenter une méthode pour effectuer une fonction de mappage ou de réduction, et les cases grises représentent leur sortie attendue. **Toutes ces opérations sont expliquées en détail dans les sections suivantes.**\n",
    "\n",
    "## 1. Configuration de Spark\n",
    "\n",
    "Spark fonctionne sur les systèmes Windows et UNIX (par exemple, Linux, Mac OS). Il est facile d'exécuter Spark localement sur une seule machine - tout ce dont vous avez besoin est d'avoir Java installé sur votre système PATH, ou la variable d'environnement JAVA_HOME pointant vers une installation Java. Il est obligatoire que le **JDK v8** soit installé sur votre système, car Spark ne prend actuellement en charge que cette version. Si ce n'est pas le cas, accédez à [la page Web de Java](https://www.oracle.com/technetwork/java/javase/downloads/jdk8-downloads-2133151.html) pour télécharger et installer une machine virtuelle Java. N'oubliez pas de définir la variable d'environnement JAVA_HOME pour utiliser JDK v8 si votre installation ne le fait pas automatiquement.\n",
    "\n",
    "L'interface entre Python et Spark se fait via **PySpark**, qui peut être installé en exécutant `pip install pyspark` ou configuré en suivant la séquence ci-dessous:\n",
    "\n",
    "1. D'abord, allez sur http://spark.apache.org/downloads\n",
    "2. Sélectionnez la dernière version de Spark et le package pré-construit pour Apache Hadoop 2.7\n",
    "3. Cliquez pour télécharger **spark-2.4.5-bin-hadoop2.7.tgz** et décompressez-le dans le dossier de votre choix.\n",
    "4. Ensuite, exportez les variables suivantes pour lier PYSPARK (l'interface python de Spark) à votre distribution python dans votre fichier `~/.bash_profile`.\n",
    "\n",
    "``\n",
    "export SPARK_HOME=/chemin/ vers / spark-2.4.5-bin-hadoop2.7\n",
    "export PYTHONPATH=\"$SPARK_HOME/python:$SPARK_HOME/python/lib/py4j-0.10.7-src.zip:$SPARK_HOME/python/lib/pyspark.zip:$ PYTHONPATH\"\n",
    "export PYSPARK_PYTHON=/chemin/vers/votre/python3\n",
    "``\n",
    "\n",
    "5. Exécutez `source ~./bash_profile` pour effectuer les modifications et redémarrer cette session de notebook jupyter.\n"
   ]
  },
  {
   "cell_type": "code",
   "execution_count": 2,
   "metadata": {
    "colab": {
     "base_uri": "https://localhost:8080/"
    },
    "id": "Jj5l3_jiBdd6",
    "outputId": "61827398-f36a-4e42-8922-9abe7b1a2e2c"
   },
   "outputs": [
    {
     "name": "stdout",
     "output_type": "stream",
     "text": [
      "Collecting pyspark\n",
      "  Downloading pyspark-3.2.0.tar.gz (281.3 MB)\n",
      "\u001b[K     |████████████████████████████████| 281.3 MB 42 kB/s \n",
      "\u001b[?25hCollecting py4j==0.10.9.2\n",
      "  Downloading py4j-0.10.9.2-py2.py3-none-any.whl (198 kB)\n",
      "\u001b[K     |████████████████████████████████| 198 kB 50.1 MB/s \n",
      "\u001b[?25hBuilding wheels for collected packages: pyspark\n",
      "  Building wheel for pyspark (setup.py) ... \u001b[?25l\u001b[?25hdone\n",
      "  Created wheel for pyspark: filename=pyspark-3.2.0-py2.py3-none-any.whl size=281805912 sha256=e9163e2b1b3ed6de86f59aa2e63c766e90be9eb96de3459827d81823a3be76f5\n",
      "  Stored in directory: /root/.cache/pip/wheels/0b/de/d2/9be5d59d7331c6c2a7c1b6d1a4f463ce107332b1ecd4e80718\n",
      "Successfully built pyspark\n",
      "Installing collected packages: py4j, pyspark\n",
      "Successfully installed py4j-0.10.9.2 pyspark-3.2.0\n"
     ]
    }
   ],
   "source": [
    "import os\n",
    "!apt-get install openjdk-8-jdk-headless -qq > /dev/null\n",
    "os.environ[\"JAVA_HOME\"] = \"/usr/lib/jvm/java-8-openjdk-amd64\"\n",
    "!pip install pyspark"
   ]
  },
  {
   "cell_type": "markdown",
   "metadata": {
    "id": "rovSCW_vYs7m"
   },
   "source": [
    "#### Testez votre Spark\n",
    "À l'aide du code suivant, vous pouvez tester si Spark est installé correctement."
   ]
  },
  {
   "cell_type": "code",
   "execution_count": 3,
   "metadata": {
    "colab": {
     "base_uri": "https://localhost:8080/"
    },
    "id": "UxgNiBFkYs7n",
    "outputId": "415a7929-1b72-47b7-c574-150da705597c"
   },
   "outputs": [
    {
     "name": "stdout",
     "output_type": "stream",
     "text": [
      "+-----+\n",
      "|hello|\n",
      "+-----+\n",
      "|spark|\n",
      "+-----+\n",
      "\n"
     ]
    }
   ],
   "source": [
    "import pyspark\n",
    "from pyspark.sql import SparkSession\n",
    "spark = SparkSession.builder.getOrCreate()\n",
    "df = spark.sql(\"select 'spark' as hello \")\n",
    "df.show()"
   ]
  },
  {
   "cell_type": "markdown",
   "metadata": {
    "id": "QaYpUpOFMazu"
   },
   "source": [
    "### 1.1 Exemple de comptage de produits \n",
    "\n",
    "Pour tester votre installation et commencer à vous familiariser avec Spark, nous suivrons un exemple qui compte combien de fois les produits d'un toy dataset ont été achetés.\n",
    "\n",
    "Le principal point d'entrée pour commencer la programmation avec Spark est [l'API RDD](https://spark.apache.org/docs/latest/rdd-programming-guide.html), une excellente abstraction Spark pour travailler avec MapReduce. RDD est une collection d'éléments partitionnés sur les nœuds du cluster qui peuvent fonctionner en parallèle. En d'autres termes, RDD est la façon dont Spark maintient vos données prêtes à exécuter une fonction (par exemple, une fonction Map ou une fonction reduce) en parallèle. **Ne vous inquiétez pas si cela semble toujours déroutant, il sera clair une fois que vous commencerez à l'implémenter**. Cependant, cela fait partie de ce TP d'étudier / consulter [Spark python API](https://spark.apache.org/docs/latest/api/python/) et d'apprendre à l'utiliser. Certaines fonctions utiles offertes par l'API RDD sont:\n",
    "\n",
    "1. **map**: return a new RDD by applying a function to each element of this RDD.\n",
    "2. **flatMap**: return a new RDD by first applying a function to all elements of this RDD, and then flattening the results. **Should be used when each entry will yield more than one mapped element**\n",
    "3. **reduce**: reduces the elements of this RDD using the specified commutative and associative binary operator.\n",
    "4. **reduceByKey**: merge the values for each key using an associative and commutative reduce function\n",
    "5. **groupByKey**: group the values for each key in the RDD into a single sequence\n",
    "6. **collect**: return a list that contains all of the elements in this RDD. **Should not be used when working with a lot of data**\n",
    "7. **sample**: return a sampled subset of this RDD\n",
    "8. **count**: return the number of elements in this RDD.\n",
    "9. **filter**: return a new RDD containing only the elements that satisfy a predicate."
   ]
  },
  {
   "cell_type": "code",
   "execution_count": 5,
   "metadata": {
    "colab": {
     "base_uri": "https://localhost:8080/"
    },
    "id": "NZDz1nrBMazu",
    "outputId": "c4667627-7268-4ed4-daf4-a05fb3822f0b"
   },
   "outputs": [
    {
     "name": "stdout",
     "output_type": "stream",
     "text": [
      "Toy dataset\n",
      "+--------+-----------+\n",
      "|order_id|transaction|\n",
      "+--------+-----------+\n",
      "|       1|    a;b;c;f|\n",
      "|       2|    d;b;a;e|\n",
      "|       3|        c;b|\n",
      "|       4|        b;c|\n",
      "+--------+-----------+\n",
      "\n",
      "Toy dataframe as a RDD object (list of Row objects):\n",
      "\t [Row(order_id='1', transaction='a;b;c;f'), Row(order_id='2', transaction='d;b;a;e'), Row(order_id='3', transaction='c;b'), Row(order_id='4', transaction='b;c')]\n",
      "\n",
      "Mapped products:\n",
      "\t [('a', 1), ('b', 1), ('c', 1), ('f', 1), ('d', 1), ('b', 1), ('a', 1), ('e', 1), ('c', 1), ('b', 1), ('b', 1), ('c', 1)]\n",
      "\n",
      "Reduced (merged) products:\n",
      "\t [('a', 2), ('b', 4), ('c', 3), ('f', 1), ('d', 1), ('e', 1)]\n",
      "\n",
      "Visualizing as a dataframe:\n",
      "+-------+-------------+\n",
      "|product|count_product|\n",
      "+-------+-------------+\n",
      "|      a|            2|\n",
      "|      b|            4|\n",
      "|      c|            3|\n",
      "|      f|            1|\n",
      "|      d|            1|\n",
      "|      e|            1|\n",
      "+-------+-------------+\n",
      "\n"
     ]
    }
   ],
   "source": [
    "from pyspark.sql import SparkSession\n",
    "\n",
    "def map_to_product(row):\n",
    "    \"\"\"\n",
    "    Map each transaction into a set of KEY-VALUE elements.\n",
    "    The KEY is the word (product) itself and the VALUE is its number of apparitions.\n",
    "    \"\"\"\n",
    "    products = row.transaction.split(';') # split products from the column transaction\n",
    "    for p in products:\n",
    "        yield (p, 1)\n",
    "\n",
    "def reduce_product_by_key(value1, value2):\n",
    "    \"Reduce the mapped objects to unique words by merging (summing ) their values\"\n",
    "    return value1+value2\n",
    "\n",
    "# Initializates a object of SparkSession class, main entry point to Spark's funcionalites\n",
    "spark = SparkSession.builder.getOrCreate()\n",
    "        \n",
    "# Read a toy dataset\n",
    "toy = spark.read.csv('toy.csv', header=True)\n",
    "#toy = spark.read.csv('gs://inf81111-bucket-tp2-12781749821/toy.csv', header=True)\n",
    "print(\"Toy dataset\")\n",
    "toy.show()\n",
    "\n",
    "# Obtain a RDD object to call a map function\n",
    "toy_rdd = toy.rdd\n",
    "print(\"Toy dataframe as a RDD object (list of Row objects):\\n\\t\", toy_rdd.collect())\n",
    "\n",
    "# Map function to identify all products\n",
    "toy_rdd = toy_rdd.flatMap(map_to_product)\n",
    "print(\"\\nMapped products:\\n\\t\", toy_rdd.collect())\n",
    "\n",
    "# Reduce function to merge values of elements that share the same KEY\n",
    "toy_rdd = toy_rdd.reduceByKey(reduce_product_by_key)\n",
    "print(\"\\nReduced (merged) products:\\n\\t\", toy_rdd.collect())\n",
    "\n",
    "print(\"\\nVisualizing as a dataframe:\")\n",
    "toy_rdd.toDF([\"product\", \"count_product\"]).show()"
   ]
  },
  {
   "cell_type": "markdown",
   "metadata": {
    "id": "PpJGQmzXMazz"
   },
   "source": [
    "### 1.2 Travailler avec Spark Dataframe\n",
    "\n",
    "Dans l'exemple ci-dessus, nous avons brièvement utilisé une classe Dataframe de Spark, mais uniquement pour obtenir un objet RDD avec ``toy.rdd`` et pour aficher les données sous forme de tableau structuré avec le ``show ()`` une fonction. Cependant, [Dataframe](http://spark.apache.org/docs/latest/api/python/) est une partie cruciale de la version actuelle de Spark et est construit sur l'API RDD. Il s'agit d'une collection distribuée de lignes sous des colonnes nommées, identique à une table dans une base de données relationnelle. Le Dataframe de Spark fonctionne de la même manière que [Pandas](https://pandas.pydata.org/pandas-docs/stable/reference/api/pandas.DataFrame.html). En fait, nous pouvons exporter (obtenir) une Dataframe Spark vers (à partir de) ​​une Dataframe pandas avec la fonction ``toPandas()``  (``spark.createDataFrame``).\n",
    "\n",
    "Une fonctionnalité centrale du Dataframe est de bénéficier du [Spark SQL](https://spark.apache.org/docs/latest/sql-programming-guide.html#sql), un module qui permet des requêtes SQL sur des données structurées. Par exemple, le même « exemple de comptage de produits » aurait pu être implémenté comme une séquence d'opérations SQL sur les données:"
   ]
  },
  {
   "cell_type": "code",
   "execution_count": 6,
   "metadata": {
    "colab": {
     "base_uri": "https://localhost:8080/"
    },
    "id": "oFL6BuIDMaz0",
    "outputId": "f872e81b-047c-43c4-e1b0-037f7fc3395d"
   },
   "outputs": [
    {
     "name": "stdout",
     "output_type": "stream",
     "text": [
      "New column 'products': exploding the transaction's products to a new row\n",
      "+--------+-----------+--------+\n",
      "|order_id|transaction|products|\n",
      "+--------+-----------+--------+\n",
      "|       1|    a;b;c;f|       a|\n",
      "|       1|    a;b;c;f|       b|\n",
      "|       1|    a;b;c;f|       c|\n",
      "|       1|    a;b;c;f|       f|\n",
      "|       2|    d;b;a;e|       d|\n",
      "|       2|    d;b;a;e|       b|\n",
      "|       2|    d;b;a;e|       a|\n",
      "|       2|    d;b;a;e|       e|\n",
      "|       3|        c;b|       c|\n",
      "|       3|        c;b|       b|\n",
      "|       4|        b;c|       b|\n",
      "|       4|        b;c|       c|\n",
      "+--------+-----------+--------+\n",
      "\n",
      "Couting unique products:\n",
      "+--------+-------------+\n",
      "|products|count_product|\n",
      "+--------+-------------+\n",
      "|       b|            4|\n",
      "|       c|            3|\n",
      "|       a|            2|\n",
      "|       f|            1|\n",
      "|       e|            1|\n",
      "|       d|            1|\n",
      "+--------+-------------+\n",
      "\n"
     ]
    }
   ],
   "source": [
    "import pyspark.sql.functions as f\n",
    "\n",
    "# Creates a new column, products, with all products appering in each transaction\n",
    "print('New column \\'products\\': exploding the transaction\\'s products to a new row')\n",
    "df_toy = toy.withColumn('products', f.explode(f.split(toy.transaction, ';')))\n",
    "df_toy.show()\n",
    "\n",
    "# Performs a select query and group rows by the product name, aggreagating by counting\n",
    "print('Couting unique products:')\n",
    "df_toy.select(df_toy.products)\\\n",
    "      .groupBy(df_toy.products)\\\n",
    "      .agg(f.count('products').alias('count_product'))\\\n",
    "      .sort('count_product', ascending=False)\\\n",
    "      .show()"
   ]
  },
  {
   "cell_type": "markdown",
   "metadata": {
    "id": "W4HFs8CVMaz3"
   },
   "source": [
    "En outre, les mêmes opérations SQL effectuées ci-dessus auraient pu être effectuées avec une requête en langage SQL traditionnel comme indiqué ci-dessous:"
   ]
  },
  {
   "cell_type": "code",
   "execution_count": 7,
   "metadata": {
    "colab": {
     "base_uri": "https://localhost:8080/"
    },
    "id": "O_eYl-7tMaz3",
    "outputId": "c593a281-31b8-44f9-84c3-1bd1de66902c"
   },
   "outputs": [
    {
     "name": "stdout",
     "output_type": "stream",
     "text": [
      "+--------+-------------+\n",
      "|products|product_count|\n",
      "+--------+-------------+\n",
      "|       b|            4|\n",
      "|       c|            3|\n",
      "|       a|            2|\n",
      "|       f|            1|\n",
      "|       e|            1|\n",
      "|       d|            1|\n",
      "+--------+-------------+\n",
      "\n"
     ]
    }
   ],
   "source": [
    "# Creates a relational table TOY in the Spark session\n",
    "df_toy.createOrReplaceTempView(\"TOY\")\n",
    "\n",
    "spark.sql(\"SELECT t.products, COUNT(t.products) AS product_count\"\n",
    "          \" FROM TOY t\"\n",
    "          \" GROUP BY t.products\"\n",
    "          \" ORDER BY product_count DESC\").show()"
   ]
  },
  {
   "cell_type": "markdown",
   "metadata": {
    "id": "T0Onr2NxMaz8"
   },
   "source": [
    "Ces concepts SQL sont mentionnés ici car ils nous seront utiles lors du TP, principalement dans la section 3, pour manipuler les données du supermarché, qui sont structurées en tableaux. Ainsi, si vous n'êtes pas familier avec SQL, il est recommandé de suivre un [tutoriel](https://www.w3schools.com/sql/) pour comprendre les bases.\n",
    "\n",
    "## 2. Algorithme MBA\n",
    "Les sections suivantes expliquent comment développer chaque étape de l'algorithme MapReduce pour notre application de supermarché. La figure workflow.pdf illustre chaque étape de l'algorithme.\n",
    "\n",
    "### 2.1 Map to Patterns (10 points)\n",
    "Pour un sous-ensemble de transactions (c'est-à-dire les lignes de notre toy dataset), chaque transaction doit être **mappée** vers un ensemble de *motifs d'achat* trouvés dans la transaction. Formellement, ces motifs sont des sous-ensembles de produits qui représentent un groupe d'articles achetés ensemble. \n",
    "\n",
    "Pour le framework MapReduce, chaque motif doit être créé comme un élément *KEY-VALUE*, où la KEY peut prendre la forme d'un singleton, d'une paire ou d'un trio de produits présents dans la transaction. Plus précisément, pour chaque transaction, la fonction de mappage doit générer tous les sous-ensembles **UNIQUE** possibles de taille **UN, DEUX ou TROIS**. La VALEUR associée à chaque KEY est le nombre de fois que la KEY est apparue dans la transaction (si nous supposons qu'aucun produit n'apparaît plus d'une fois dans la transaction, cette valeur est toujours égale à un).\n",
    "\n",
    "Maintenant, implémentez la fonction **map_to_patterns** qui reçoit une transaction (une ligne du dataset) et retourne les motifs trouvés dans la transaction. Les éléments mappés sont un tuple (KEY, VALUE), où KEY est également un tuple de noms de produits. Il est crucial de noter que, puisque chaque entrée (transaction) de la fonction MAP produira **plus** un élément KEY-VALUE, un *flatMap* doit être invoqué pour cette étape.\n",
    "\n",
    "Pour le toy dataset, la sortie attendue est similaire à:\n",
    "\n",
    "\n",
    "<pre style=\"align:center; border:1px solid black;font-size: 8pt; line-height: 1.1; height: auto; width: 20em; padding-left:1px\">\n",
    "<code>\n",
    "+---------------+-----------+\n",
    "|       patterns|occurrences|\n",
    "+---------------+-----------+\n",
    "|         ('a',)|          1|\n",
    "|     ('a', 'b')|          1|\n",
    "|('a', 'b', 'c')|          1|\n",
    "|('a', 'b', 'f')|          1|\n",
    "|     ('a', 'c')|          1|\n",
    "|('a', 'c', 'f')|          1|\n",
    "|     ('a', 'f')|          1|\n",
    "|         ('b',)|          1|\n",
    "|     ('b', 'c')|          1|\n",
    "|('b', 'c', 'f')|          1|\n",
    "|     ('b', 'f')|          1|\n",
    "|         ('c',)|          1|\n",
    "|     ('c', 'f')|          1|\n",
    "|         ('f',)|          1|\n",
    "|         ('a',)|          1|\n",
    "|     ('a', 'b')|          1|\n",
    "|('a', 'b', 'd')|          1|\n",
    "|('a', 'b', 'e')|          1|\n",
    "|     ('a', 'd')|          1|\n",
    "|('a', 'd', 'e')|          1|\n",
    "|     ('a', 'e')|          1|\n",
    "|         ('b',)|          1|\n",
    "|     ('b', 'd')|          1|\n",
    "|('b', 'd', 'e')|          1|\n",
    "|     ('b', 'e')|          1|\n",
    "|         ('d',)|          1|\n",
    "|     ('d', 'e')|          1|\n",
    "|         ('e',)|          1|\n",
    "|         ('b',)|          1|\n",
    "|     ('b', 'c')|          1|\n",
    "|         ('c',)|          1|\n",
    "|         ('b',)|          1|\n",
    "|     ('b', 'c')|          1|\n",
    "|         ('c',)|          1|\n",
    "+---------------+-----------+\n",
    "</code>\n",
    "</pre>"
   ]
  },
  {
   "cell_type": "code",
   "execution_count": 8,
   "metadata": {
    "colab": {
     "base_uri": "https://localhost:8080/"
    },
    "id": "BscKKDAjMaz9",
    "outputId": "497af2f4-b512-463d-d404-5d9c3cd7f0af"
   },
   "outputs": [
    {
     "name": "stdout",
     "output_type": "stream",
     "text": [
      "+---------------+-----------+\n",
      "|       patterns|occurrences|\n",
      "+---------------+-----------+\n",
      "|         ('a',)|          1|\n",
      "|     ('a', 'b')|          1|\n",
      "|('a', 'b', 'c')|          1|\n",
      "|('a', 'b', 'f')|          1|\n",
      "|     ('a', 'c')|          1|\n",
      "|('a', 'c', 'f')|          1|\n",
      "|     ('a', 'f')|          1|\n",
      "|         ('b',)|          1|\n",
      "|     ('b', 'c')|          1|\n",
      "|('b', 'c', 'f')|          1|\n",
      "|     ('b', 'f')|          1|\n",
      "|         ('c',)|          1|\n",
      "|     ('c', 'f')|          1|\n",
      "|         ('f',)|          1|\n",
      "|         ('a',)|          1|\n",
      "|     ('a', 'b')|          1|\n",
      "|('a', 'b', 'd')|          1|\n",
      "|('a', 'b', 'e')|          1|\n",
      "|     ('a', 'd')|          1|\n",
      "|('a', 'd', 'e')|          1|\n",
      "|     ('a', 'e')|          1|\n",
      "|         ('b',)|          1|\n",
      "|     ('b', 'd')|          1|\n",
      "|('b', 'd', 'e')|          1|\n",
      "|     ('b', 'e')|          1|\n",
      "|         ('d',)|          1|\n",
      "|     ('d', 'e')|          1|\n",
      "|         ('e',)|          1|\n",
      "|         ('b',)|          1|\n",
      "|     ('b', 'c')|          1|\n",
      "|         ('c',)|          1|\n",
      "|         ('b',)|          1|\n",
      "|     ('b', 'c')|          1|\n",
      "|         ('c',)|          1|\n",
      "+---------------+-----------+\n",
      "\n"
     ]
    }
   ],
   "source": [
    "def format_tuples(pattern):\n",
    "    \"\"\"\n",
    "    Used for visualizition.\n",
    "    Transforms tuples to a string since Dataframe does not support column of tuples with different sizes\n",
    "    (a,b,c) -> '(a,b,c)'\n",
    "    \"\"\"\n",
    "    return (str(pattern[0]), str(pattern[1]))\n",
    "\n",
    "def map_to_patterns(row):\n",
    "    \"\"\"\n",
    "    TODO\n",
    "    \"\"\"\n",
    "    products = row.transaction.split(';')\n",
    "    products.sort()\n",
    "    for i in range(len(products)):\n",
    "      yield((products[i],), 1)\n",
    "      for j in range(1, len(products[i:])):\n",
    "        yield((products[i], products[i+j]), 1)\n",
    "        for k in range(1, len(products[i+j:])):\n",
    "          yield((products[i], products[i+j], products[i+j+k]), 1)\n",
    "    \n",
    "\n",
    "toy_rdd = toy.rdd\n",
    "patterns_rdd = toy_rdd.flatMap(map_to_patterns)\n",
    "\n",
    "# Output as dataframe\n",
    "patterns_rdd.map(format_tuples).toDF(['patterns', 'occurrences']).show(50)"
   ]
  },
  {
   "cell_type": "markdown",
   "metadata": {
    "id": "YvvRw0plMa0B"
   },
   "source": [
    "### 2.2  Reduce patterns  (2,5 points)\n",
    "Une fois que différents processeurs ont traité les transactions, une fonction **reduce** doit être appelée pour combiner des KEYS identiques (le sous-ensemble de produits) et calculer le nombre total de ses occurrences dans le dataset. En d'autres termes, cette procédure de réduction doit additionner la *VALUE* de chaque KEY identique.\n",
    "\n",
    "Créez ci-dessous une fonction **reduce_patterns** qui doit additionner la VALUE de chaque motif.\n",
    "Pour le toy dataset, la sortie attendue est:\n",
    "<pre style=\"align:center; border:1px solid black;font-size: 8pt; line-height: 1.1; height: auto; width: 28em; padding-left:5px\">\n",
    "<code>\n",
    "+---------------+--------------------+\n",
    "|       patterns|combined_occurrences|\n",
    "+---------------+--------------------+\n",
    "|         ('a',)|                   2|\n",
    "|     ('a', 'b')|                   2|\n",
    "|('a', 'b', 'c')|                   1|\n",
    "|('a', 'b', 'f')|                   1|\n",
    "|     ('a', 'c')|                   1|\n",
    "|('a', 'c', 'f')|                   1|\n",
    "|     ('a', 'f')|                   1|\n",
    "|         ('b',)|                   4|\n",
    "|     ('b', 'c')|                   3|\n",
    "|('b', 'c', 'f')|                   1|\n",
    "|     ('b', 'f')|                   1|\n",
    "|         ('c',)|                   3|\n",
    "|     ('c', 'f')|                   1|\n",
    "|         ('f',)|                   1|\n",
    "|('a', 'b', 'd')|                   1|\n",
    "|('a', 'b', 'e')|                   1|\n",
    "|     ('a', 'd')|                   1|\n",
    "|('a', 'd', 'e')|                   1|\n",
    "|     ('a', 'e')|                   1|\n",
    "|     ('b', 'd')|                   1|\n",
    "|('b', 'd', 'e')|                   1|\n",
    "|     ('b', 'e')|                   1|\n",
    "|         ('d',)|                   1|\n",
    "|     ('d', 'e')|                   1|\n",
    "|         ('e',)|                   1|\n",
    "+---------------+--------------------+\n",
    "</code>\n",
    "</pre>\n"
   ]
  },
  {
   "cell_type": "code",
   "execution_count": 15,
   "metadata": {
    "colab": {
     "base_uri": "https://localhost:8080/"
    },
    "id": "67IKY_4MMa0C",
    "outputId": "57e5e6ae-5ef0-4447-edcd-95160158ebf0"
   },
   "outputs": [
    {
     "name": "stdout",
     "output_type": "stream",
     "text": [
      "+---------------+--------------------+\n",
      "|       patterns|combined_occurrences|\n",
      "+---------------+--------------------+\n",
      "|         ('a',)|                   2|\n",
      "|     ('a', 'b')|                   2|\n",
      "|('a', 'b', 'c')|                   1|\n",
      "|('a', 'b', 'f')|                   1|\n",
      "|     ('a', 'c')|                   1|\n",
      "|('a', 'c', 'f')|                   1|\n",
      "|     ('a', 'f')|                   1|\n",
      "|         ('b',)|                   4|\n",
      "|     ('b', 'c')|                   3|\n",
      "|('b', 'c', 'f')|                   1|\n",
      "|     ('b', 'f')|                   1|\n",
      "|         ('c',)|                   3|\n",
      "|     ('c', 'f')|                   1|\n",
      "|         ('f',)|                   1|\n",
      "|('a', 'b', 'd')|                   1|\n",
      "|('a', 'b', 'e')|                   1|\n",
      "|     ('a', 'd')|                   1|\n",
      "|('a', 'd', 'e')|                   1|\n",
      "|     ('a', 'e')|                   1|\n",
      "|     ('b', 'd')|                   1|\n",
      "|('b', 'd', 'e')|                   1|\n",
      "|     ('b', 'e')|                   1|\n",
      "|         ('d',)|                   1|\n",
      "|     ('d', 'e')|                   1|\n",
      "|         ('e',)|                   1|\n",
      "+---------------+--------------------+\n",
      "\n"
     ]
    }
   ],
   "source": [
    "def reduce_patterns(value1, value2):\n",
    "  \"\"\"\n",
    "  TODO\n",
    "  \"\"\"\n",
    "  return value1 + value2\n",
    "\n",
    "combined_patterns_rdd = patterns_rdd.reduceByKey(reduce_patterns)\n",
    "\n",
    "# Output as dataframe\n",
    "combined_patterns_rdd.map(format_tuples).toDF(['patterns', 'combined_occurrences']).show(30)"
   ]
  },
  {
   "cell_type": "markdown",
   "metadata": {
    "id": "6BME1VugMa0F"
   },
   "source": [
    "### 2.3 Map to subpatterns (15 points)\n",
    "Ensuite, une autre fonction **map** doit être appliquée pour générer des sous-motifs. Encore une fois, les sous-motifs sont des éléments KEY-VALUE, où la KEY est également un sous-ensemble de produits. Cependant, la création de la KEY du sous-motif est une procédure différente. Cette fois, l'idée est de décomposer la liste des produits de chaque motif (KEY), de supprimer un produit à la fois et de produire la liste résultante en tant que nouvelle clé de sous-motif.\n",
    "\n",
    "Par exemple, pour un modèle donné $P$ avec trois produits, $p_1, p_2$ et $p_3$, trois nouvelles clés de sous-motifs vont être créées: (i) supprimer $p_1$ et retourner ($p_2, p_3$) ; (ii) supprimer $p_2$ et retourner ($p_1, p_3$); et (iii) supprimer $p_3$ et retourner ($p_1, p_2$).\n",
    "\n",
    "De plus, la structure VALUE du sous-motif sera également différente. Au lieu d'une seule valeur entière unique comme nous l'avons eu dans les motifs, cette fois un *tuple* devrait être créé pour le sous-motif VALUE. Ce tuple contient le produit qui a été retiré lors de la remise de la KEY et le nombre de fois que le motif est apparu. Par exemple ci-dessus, les valeurs doivent être ($p_1,v$), ($p_2,v$) et ($p_3,v $), respectivement, où $v$ est la VALEUR du motif.\n",
    "\n",
    "L'idée derrière les sous-motif est de créer **des règles** telles que : lorsque les produits de KEY ont été achetés, l'article présent dans la VALEUR a également été acheté *v* fois. En outre, chaque motif doit également produire un sous-motif dans lequel la clé est la même liste de produits du motif, mais la valeur est un tuple avec un produit nul (None) et le nombre de fois que le motif est apparu. Cet élément sera utile pour garder une trace du nombre de fois où un tel motif a été trouvé et sera utilisé ultérieurement pour calculer la valeur de confiance lors de la génération des règles d'association.\n",
    "\n",
    "Maintenant, implémentez la fonction **map_to_subpatterns** qui reçoit un motif et produit tous les sous-motif trouvés. Encore une fois, chaque entrée (motif) générera plus d'un élément KEY-VALUE, puis une fonction flatMap doit être appelée.\n",
    "\n",
    "Pour le toy dataset, la sortie attendue est:\n",
    "\n",
    "<pre style=\"align:center; border:1px solid black;font-size: 8pt; line-height: 1.1; height: auto; width: 20em; padding-left:5px\">\n",
    "<code>\n",
    "+---------------+---------+\n",
    "|    subpatterns|    rules|\n",
    "+---------------+---------+\n",
    "|         ('a',)|(None, 2)|\n",
    "|     ('a', 'b')|(None, 2)|\n",
    "|         ('b',)| ('a', 2)|\n",
    "|         ('a',)| ('b', 2)|\n",
    "|('a', 'b', 'c')|(None, 1)|\n",
    "|     ('b', 'c')| ('a', 1)|\n",
    "|     ('a', 'c')| ('b', 1)|\n",
    "|     ('a', 'b')| ('c', 1)|\n",
    "|('a', 'b', 'f')|(None, 1)|\n",
    "|     ('b', 'f')| ('a', 1)|\n",
    "|     ('a', 'f')| ('b', 1)|\n",
    "|     ('a', 'b')| ('f', 1)|\n",
    "|     ('a', 'c')|(None, 1)|\n",
    "|         ('c',)| ('a', 1)|\n",
    "|         ('a',)| ('c', 1)|\n",
    "|('a', 'c', 'f')|(None, 1)|\n",
    "|     ('c', 'f')| ('a', 1)|\n",
    "|     ('a', 'f')| ('c', 1)|\n",
    "|     ('a', 'c')| ('f', 1)|\n",
    "|     ('a', 'f')|(None, 1)|\n",
    "|         ('f',)| ('a', 1)|\n",
    "|         ('a',)| ('f', 1)|\n",
    "|         ('b',)|(None, 4)|\n",
    "|     ('b', 'c')|(None, 3)|\n",
    "|         ('c',)| ('b', 3)|\n",
    "|         ('b',)| ('c', 3)|\n",
    "|('b', 'c', 'f')|(None, 1)|\n",
    "|     ('c', 'f')| ('b', 1)|\n",
    "|     ('b', 'f')| ('c', 1)|\n",
    "|     ('b', 'c')| ('f', 1)|\n",
    "|     ('b', 'f')|(None, 1)|\n",
    "|         ('f',)| ('b', 1)|\n",
    "|         ('b',)| ('f', 1)|\n",
    "|         ('c',)|(None, 3)|\n",
    "|     ('c', 'f')|(None, 1)|\n",
    "|         ('f',)| ('c', 1)|\n",
    "|         ('c',)| ('f', 1)|\n",
    "|         ('f',)|(None, 1)|\n",
    "|('a', 'b', 'd')|(None, 1)|\n",
    "|     ('b', 'd')| ('a', 1)|\n",
    "|     ('a', 'd')| ('b', 1)|\n",
    "|     ('a', 'b')| ('d', 1)|\n",
    "|('a', 'b', 'e')|(None, 1)|\n",
    "|     ('b', 'e')| ('a', 1)|\n",
    "|     ('a', 'e')| ('b', 1)|\n",
    "|     ('a', 'b')| ('e', 1)|\n",
    "|     ('a', 'd')|(None, 1)|\n",
    "|         ('d',)| ('a', 1)|\n",
    "|         ('a',)| ('d', 1)|\n",
    "|('a', 'd', 'e')|(None, 1)|\n",
    "|     ('d', 'e')| ('a', 1)|\n",
    "|     ('a', 'e')| ('d', 1)|\n",
    "|     ('a', 'd')| ('e', 1)|\n",
    "|     ('a', 'e')|(None, 1)|\n",
    "|         ('e',)| ('a', 1)|\n",
    "|         ('a',)| ('e', 1)|\n",
    "|     ('b', 'd')|(None, 1)|\n",
    "|         ('d',)| ('b', 1)|\n",
    "|         ('b',)| ('d', 1)|\n",
    "|('b', 'd', 'e')|(None, 1)|\n",
    "|     ('d', 'e')| ('b', 1)|\n",
    "|     ('b', 'e')| ('d', 1)|\n",
    "|     ('b', 'd')| ('e', 1)|\n",
    "|     ('b', 'e')|(None, 1)|\n",
    "|         ('e',)| ('b', 1)|\n",
    "|         ('b',)| ('e', 1)|\n",
    "|         ('d',)|(None, 1)|\n",
    "|     ('d', 'e')|(None, 1)|\n",
    "|         ('e',)| ('d', 1)|\n",
    "|         ('d',)| ('e', 1)|\n",
    "|         ('e',)|(None, 1)|\n",
    "+---------------+---------+\n",
    "</code>\n",
    "</pre>"
   ]
  },
  {
   "cell_type": "code",
   "execution_count": 10,
   "metadata": {
    "colab": {
     "base_uri": "https://localhost:8080/"
    },
    "id": "t8aLrdMuMa0G",
    "outputId": "a8b16558-54b3-4396-9d66-f1dfafad86e2"
   },
   "outputs": [
    {
     "name": "stdout",
     "output_type": "stream",
     "text": [
      "+---------------+---------+\n",
      "|    subpatterns|    rules|\n",
      "+---------------+---------+\n",
      "|         ('a',)|(None, 2)|\n",
      "|     ('a', 'b')|(None, 2)|\n",
      "|         ('b',)| ('a', 2)|\n",
      "|         ('a',)| ('b', 2)|\n",
      "|('a', 'b', 'c')|(None, 1)|\n",
      "|     ('b', 'c')| ('a', 1)|\n",
      "|     ('a', 'c')| ('b', 1)|\n",
      "|     ('a', 'b')| ('c', 1)|\n",
      "|('a', 'b', 'f')|(None, 1)|\n",
      "|     ('b', 'f')| ('a', 1)|\n",
      "|     ('a', 'f')| ('b', 1)|\n",
      "|     ('a', 'b')| ('f', 1)|\n",
      "|     ('a', 'c')|(None, 1)|\n",
      "|         ('c',)| ('a', 1)|\n",
      "|         ('a',)| ('c', 1)|\n",
      "|('a', 'c', 'f')|(None, 1)|\n",
      "|     ('c', 'f')| ('a', 1)|\n",
      "|     ('a', 'f')| ('c', 1)|\n",
      "|     ('a', 'c')| ('f', 1)|\n",
      "|     ('a', 'f')|(None, 1)|\n",
      "|         ('f',)| ('a', 1)|\n",
      "|         ('a',)| ('f', 1)|\n",
      "|         ('b',)|(None, 4)|\n",
      "|     ('b', 'c')|(None, 3)|\n",
      "|         ('c',)| ('b', 3)|\n",
      "|         ('b',)| ('c', 3)|\n",
      "|('b', 'c', 'f')|(None, 1)|\n",
      "|     ('c', 'f')| ('b', 1)|\n",
      "|     ('b', 'f')| ('c', 1)|\n",
      "|     ('b', 'c')| ('f', 1)|\n",
      "|     ('b', 'f')|(None, 1)|\n",
      "|         ('f',)| ('b', 1)|\n",
      "|         ('b',)| ('f', 1)|\n",
      "|         ('c',)|(None, 3)|\n",
      "|     ('c', 'f')|(None, 1)|\n",
      "|         ('f',)| ('c', 1)|\n",
      "|         ('c',)| ('f', 1)|\n",
      "|         ('f',)|(None, 1)|\n",
      "|('a', 'b', 'd')|(None, 1)|\n",
      "|     ('b', 'd')| ('a', 1)|\n",
      "|     ('a', 'd')| ('b', 1)|\n",
      "|     ('a', 'b')| ('d', 1)|\n",
      "|('a', 'b', 'e')|(None, 1)|\n",
      "|     ('b', 'e')| ('a', 1)|\n",
      "|     ('a', 'e')| ('b', 1)|\n",
      "|     ('a', 'b')| ('e', 1)|\n",
      "|     ('a', 'd')|(None, 1)|\n",
      "|         ('d',)| ('a', 1)|\n",
      "|         ('a',)| ('d', 1)|\n",
      "|('a', 'd', 'e')|(None, 1)|\n",
      "|     ('d', 'e')| ('a', 1)|\n",
      "|     ('a', 'e')| ('d', 1)|\n",
      "|     ('a', 'd')| ('e', 1)|\n",
      "|     ('a', 'e')|(None, 1)|\n",
      "|         ('e',)| ('a', 1)|\n",
      "|         ('a',)| ('e', 1)|\n",
      "|     ('b', 'd')|(None, 1)|\n",
      "|         ('d',)| ('b', 1)|\n",
      "|         ('b',)| ('d', 1)|\n",
      "|('b', 'd', 'e')|(None, 1)|\n",
      "|     ('d', 'e')| ('b', 1)|\n",
      "|     ('b', 'e')| ('d', 1)|\n",
      "|     ('b', 'd')| ('e', 1)|\n",
      "|     ('b', 'e')|(None, 1)|\n",
      "|         ('e',)| ('b', 1)|\n",
      "|         ('b',)| ('e', 1)|\n",
      "|         ('d',)|(None, 1)|\n",
      "|     ('d', 'e')|(None, 1)|\n",
      "|         ('e',)| ('d', 1)|\n",
      "|         ('d',)| ('e', 1)|\n",
      "|         ('e',)|(None, 1)|\n",
      "+---------------+---------+\n",
      "\n"
     ]
    }
   ],
   "source": [
    "from copy import deepcopy\n",
    "def map_to_subpatterns(pattern):\n",
    "    \"\"\"\n",
    "    TODO\n",
    "    \"\"\"\n",
    "    key, value = pattern\n",
    "    yield((key, (None, value)))\n",
    "    for i in range(len(key)):\n",
    "      subkey = []\n",
    "      for j in range(len(key)):\n",
    "        if j != i:\n",
    "          subkey.append(key[j])\n",
    "      if len(subkey) > 0: yield((tuple(subkey), (key[i], value)))\n",
    "\n",
    "subpatterns_rdd = combined_patterns_rdd.flatMap(map_to_subpatterns)\n",
    "\n",
    "# Output as dataframe\n",
    "subpatterns_rdd.map(format_tuples).toDF(['subpatterns', 'rules']).show(100)"
   ]
  },
  {
   "cell_type": "markdown",
   "metadata": {
    "id": "jl6TWh8rMa0J"
   },
   "source": [
    "### 2.4 Reduce Subpatterns (2.5 points)\n",
    "\n",
    "Encore une fois, une fonction **reduce** est nécessaire pour regrouper tous les sous-motif par leur KEY. L'objectif de cette procédure de réduction est de créer une liste de toutes les **règles** apparues dans KEY. Par conséquent, la sortie attendue résultant de cette fonction de réduction est également un élément KEY-VALUE, où la clé est la KEY du sous-motif et la valeur est un groupe contenant toutes les valeurs des sous-motif qui partagent la même clé.\n",
    "\n",
    "Pour le toy dataset, la sortie attendue est:\n",
    "\n",
    "\n",
    "<pre style=\"align:center; border:1px solid black;font-size: 8pt; line-height: 1.1; height: auto; width: 50em; padding-left:5px\">\n",
    "<code>\n",
    "+---------------+-------------------------------------------------------------+\n",
    "|subpatterns    |combined_rules                                               |\n",
    "+---------------+-------------------------------------------------------------+\n",
    "|('a',)         |[(None, 2), ('b', 2), ('c', 1), ('f', 1), ('d', 1), ('e', 1)]|\n",
    "|('a', 'b')     |[(None, 2), ('c', 1), ('f', 1), ('d', 1), ('e', 1)]          |\n",
    "|('b',)         |[('a', 2), (None, 4), ('c', 3), ('f', 1), ('d', 1), ('e', 1)]|\n",
    "|('a', 'b', 'c')|[(None, 1)]                                                  |\n",
    "|('b', 'c')     |[('a', 1), (None, 3), ('f', 1)]                              |\n",
    "|('a', 'c')     |[('b', 1), (None, 1), ('f', 1)]                              |\n",
    "|('a', 'b', 'f')|[(None, 1)]                                                  |\n",
    "|('b', 'f')     |[('a', 1), ('c', 1), (None, 1)]                              |\n",
    "|('a', 'f')     |[('b', 1), ('c', 1), (None, 1)]                              |\n",
    "|('c',)         |[('a', 1), ('b', 3), (None, 3), ('f', 1)]                    |\n",
    "|('a', 'c', 'f')|[(None, 1)]                                                  |\n",
    "|('c', 'f')     |[('a', 1), ('b', 1), (None, 1)]                              |\n",
    "|('f',)         |[('a', 1), ('b', 1), ('c', 1), (None, 1)]                    |\n",
    "|('b', 'c', 'f')|[(None, 1)]                                                  |\n",
    "|('a', 'b', 'd')|[(None, 1)]                                                  |\n",
    "|('b', 'd')     |[('a', 1), (None, 1), ('e', 1)]                              |\n",
    "|('a', 'd')     |[('b', 1), (None, 1), ('e', 1)]                              |\n",
    "|('a', 'b', 'e')|[(None, 1)]                                                  |\n",
    "|('b', 'e')     |[('a', 1), ('d', 1), (None, 1)]                              |\n",
    "|('a', 'e')     |[('b', 1), ('d', 1), (None, 1)]                              |\n",
    "+---------------+-------------------------------------------------------------+\n",
    "</code>\n",
    "</pre>\n"
   ]
  },
  {
   "cell_type": "code",
   "execution_count": 11,
   "metadata": {
    "colab": {
     "base_uri": "https://localhost:8080/"
    },
    "id": "LOP-SVIhMa0J",
    "outputId": "6499efcd-e5b2-4c8d-943b-c6afc26db88c"
   },
   "outputs": [
    {
     "name": "stdout",
     "output_type": "stream",
     "text": [
      "+---------------+-------------------------------------------------------------+\n",
      "|subpatterns    |combined_rules                                               |\n",
      "+---------------+-------------------------------------------------------------+\n",
      "|('a',)         |[(None, 2), ('b', 2), ('c', 1), ('f', 1), ('d', 1), ('e', 1)]|\n",
      "|('a', 'b')     |[(None, 2), ('c', 1), ('f', 1), ('d', 1), ('e', 1)]          |\n",
      "|('b',)         |[('a', 2), (None, 4), ('c', 3), ('f', 1), ('d', 1), ('e', 1)]|\n",
      "|('a', 'b', 'c')|[(None, 1)]                                                  |\n",
      "|('b', 'c')     |[('a', 1), (None, 3), ('f', 1)]                              |\n",
      "|('a', 'c')     |[('b', 1), (None, 1), ('f', 1)]                              |\n",
      "|('a', 'b', 'f')|[(None, 1)]                                                  |\n",
      "|('b', 'f')     |[('a', 1), ('c', 1), (None, 1)]                              |\n",
      "|('a', 'f')     |[('b', 1), ('c', 1), (None, 1)]                              |\n",
      "|('c',)         |[('a', 1), ('b', 3), (None, 3), ('f', 1)]                    |\n",
      "|('a', 'c', 'f')|[(None, 1)]                                                  |\n",
      "|('c', 'f')     |[('a', 1), ('b', 1), (None, 1)]                              |\n",
      "|('f',)         |[('a', 1), ('b', 1), ('c', 1), (None, 1)]                    |\n",
      "|('b', 'c', 'f')|[(None, 1)]                                                  |\n",
      "|('a', 'b', 'd')|[(None, 1)]                                                  |\n",
      "|('b', 'd')     |[('a', 1), (None, 1), ('e', 1)]                              |\n",
      "|('a', 'd')     |[('b', 1), (None, 1), ('e', 1)]                              |\n",
      "|('a', 'b', 'e')|[(None, 1)]                                                  |\n",
      "|('b', 'e')     |[('a', 1), ('d', 1), (None, 1)]                              |\n",
      "|('a', 'e')     |[('b', 1), ('d', 1), (None, 1)]                              |\n",
      "+---------------+-------------------------------------------------------------+\n",
      "only showing top 20 rows\n",
      "\n"
     ]
    }
   ],
   "source": [
    "combined_rules = subpatterns_rdd.aggregateByKey([], lambda x,y: x + [y] , lambda x,y: x + y)\n",
    "\n",
    "# Output as dataframe\n",
    "combined_rules.map(format_tuples).toDF(['subpatterns', 'combined_rules']).show(truncate=False)"
   ]
  },
  {
   "cell_type": "markdown",
   "metadata": {
    "id": "Uh69x3a8Ma0P"
   },
   "source": [
    "### 2.5. Map to Association Rules (15 points)\n",
    "\n",
    "Enfin, la dernière étape de l'algorithme consiste à créer les règles d'association pour effectuer la MBA. Le but de cette fonction Map est de calculer le niveau **de confiance** de l'achat d'un produit, sachant qu'il y a déjà un ensemble de produits dans le panier. Ainsi, la KEY du sous-motif est l'ensemble des produits placés dans le panier et, pour chaque produit présent dans la liste des règles, c'est-à-dire dans la VALEUR, la confiance peut être calculée comme :\n",
    "\n",
    "\\begin{align*}\n",
    "\\frac{\\text{nombre de fois où le produit a été acheté avec KEY}}{\\text{nombre de fois où la KEY est apparue}}\n",
    "\\end{align*}\n",
    "\n",
    "Pour l'exemple donné dans la figure \"workflow\", *le café* a été acheté 20 fois et, dans 17 d'entre eux, le *lait* a été acheté ensemble. Ensuite, le niveau de confiance pour acheter du *lait* sachant que *le café* est dans le panier est $\\frac{17}{20}=0,85$, ce qui signifie que dans 85% des cas où le café a été acheté, le lait a aussi été acheté.\n",
    "\n",
    "Implémentez la fonction **map_to_assoc_rules** qui calcule le niveau de confiance pour chaque sous-motif.\n",
    "\n",
    "Pour le toy dataset, la sortie attendue est:\n",
    "<pre style=\"align:center; border:1px solid black;font-size: 8pt; line-height: 1.1; height: auto; width: 57em; padding-left:5px\">\n",
    "<code>\n",
    "+---------------+------------------------------------------------------------------+\n",
    "|patterns       |association_rules                                                 |\n",
    "+---------------+------------------------------------------------------------------+\n",
    "|('a',)         |[('b', 1.0), ('c', 0.5), ('f', 0.5), ('d', 0.5), ('e', 0.5)]      |\n",
    "|('a', 'b')     |[('c', 0.5), ('f', 0.5), ('d', 0.5), ('e', 0.5)]                  |\n",
    "|('b',)         |[('a', 0.5), ('c', 0.75), ('f', 0.25), ('d', 0.25), ('e', 0.25)]  |\n",
    "|('a', 'b', 'c')|[]                                                                |\n",
    "|('b', 'c')     |[('a', 0.3333333333333333), ('f', 0.3333333333333333)]            |\n",
    "|('a', 'c')     |[('b', 1.0), ('f', 1.0)]                                          |\n",
    "|('a', 'b', 'f')|[]                                                                |\n",
    "|('b', 'f')     |[('a', 1.0), ('c', 1.0)]                                          |\n",
    "|('a', 'f')     |[('b', 1.0), ('c', 1.0)]                                          |\n",
    "|('c',)         |[('a', 0.3333333333333333), ('b', 1.0), ('f', 0.3333333333333333)]|\n",
    "|('a', 'c', 'f')|[]                                                                |\n",
    "|('c', 'f')     |[('a', 1.0), ('b', 1.0)]                                          |\n",
    "|('f',)         |[('a', 1.0), ('b', 1.0), ('c', 1.0)]                              |\n",
    "|('b', 'c', 'f')|[]                                                                |\n",
    "|('a', 'b', 'd')|[]                                                                |\n",
    "|('b', 'd')     |[('a', 1.0), ('e', 1.0)]                                          |\n",
    "|('a', 'd')     |[('b', 1.0), ('e', 1.0)]                                          |\n",
    "|('a', 'b', 'e')|[]                                                                |\n",
    "|('b', 'e')     |[('a', 1.0), ('d', 1.0)]                                          |\n",
    "|('a', 'e')     |[('b', 1.0), ('d', 1.0)]                                          |\n",
    "+---------------+------------------------------------------------------------------+\n",
    "</code>\n",
    "</pre>"
   ]
  },
  {
   "cell_type": "code",
   "execution_count": 12,
   "metadata": {
    "colab": {
     "base_uri": "https://localhost:8080/"
    },
    "id": "DPrbn5CfMa0P",
    "outputId": "60035244-5a36-4357-8bab-ff126a9ae465"
   },
   "outputs": [
    {
     "name": "stdout",
     "output_type": "stream",
     "text": [
      "+---------------+------------------------------------------------------------------+\n",
      "|patterns       |association_rules                                                 |\n",
      "+---------------+------------------------------------------------------------------+\n",
      "|('a',)         |[('b', 1.0), ('c', 0.5), ('f', 0.5), ('d', 0.5), ('e', 0.5)]      |\n",
      "|('a', 'b')     |[('c', 0.5), ('f', 0.5), ('d', 0.5), ('e', 0.5)]                  |\n",
      "|('b',)         |[('a', 0.5), ('c', 0.75), ('f', 0.25), ('d', 0.25), ('e', 0.25)]  |\n",
      "|('a', 'b', 'c')|[]                                                                |\n",
      "|('b', 'c')     |[('a', 0.3333333333333333), ('f', 0.3333333333333333)]            |\n",
      "|('a', 'c')     |[('b', 1.0), ('f', 1.0)]                                          |\n",
      "|('a', 'b', 'f')|[]                                                                |\n",
      "|('b', 'f')     |[('a', 1.0), ('c', 1.0)]                                          |\n",
      "|('a', 'f')     |[('b', 1.0), ('c', 1.0)]                                          |\n",
      "|('c',)         |[('a', 0.3333333333333333), ('b', 1.0), ('f', 0.3333333333333333)]|\n",
      "|('a', 'c', 'f')|[]                                                                |\n",
      "|('c', 'f')     |[('a', 1.0), ('b', 1.0)]                                          |\n",
      "|('f',)         |[('a', 1.0), ('b', 1.0), ('c', 1.0)]                              |\n",
      "|('b', 'c', 'f')|[]                                                                |\n",
      "|('a', 'b', 'd')|[]                                                                |\n",
      "|('b', 'd')     |[('a', 1.0), ('e', 1.0)]                                          |\n",
      "|('a', 'd')     |[('b', 1.0), ('e', 1.0)]                                          |\n",
      "|('a', 'b', 'e')|[]                                                                |\n",
      "|('b', 'e')     |[('a', 1.0), ('d', 1.0)]                                          |\n",
      "|('a', 'e')     |[('b', 1.0), ('d', 1.0)]                                          |\n",
      "+---------------+------------------------------------------------------------------+\n",
      "only showing top 20 rows\n",
      "\n"
     ]
    }
   ],
   "source": [
    "def map_to_assoc_rules(rule):\n",
    "    \"\"\"\n",
    "    TODO\n",
    "    \"\"\"\n",
    "    results = []\n",
    "    subpattern, combined_rules = rule\n",
    "    tot = 0\n",
    "    for val in combined_rules:\n",
    "      if val[0] == None:\n",
    "        tot = val[1]\n",
    "        break\n",
    "    for val in combined_rules:\n",
    "      if val[0] != None:\n",
    "        results.append((val[0], val[1]/tot))\n",
    "    return (subpattern, results)\n",
    "\n",
    "assoc_rules = combined_rules.map(map_to_assoc_rules)\n",
    "\n",
    "# Output as dataframe\n",
    "assoc_rules.map(format_tuples).toDF(['patterns', 'association_rules']).show(truncate=False)"
   ]
  },
  {
   "cell_type": "markdown",
   "metadata": {
    "id": "BPV5g2hwMa0U"
   },
   "source": [
    "## 3. Instacart dataset\n",
    "\n",
    "Avec votre algorithme MBA prêt à être utilisé, il est maintenant temps de travailler sur l'ensemble de données réel. Pour cette partie du TP, téléchargez le dataset [instacart](https://drive.google.com/file/d/1pXjqPz1RbL40yCGWnTCbmW_ZXrjlfJi4/view?usp=sharing) et lisez sa [description](https://gist.github.com/jeremystan/c3b39d947d9b88b3ccff3147dbcf6c6b) pour comprendre la structure de l'ensemble de données.\n",
    "\n",
    "Avant d'appliquer l'algorithme développé sur l'ensemble de données instacart, vous devez d'abord filtrer les transactions pour qu'elles soient au même format défini par votre algorithme (une transaction par ligne). Pour manipuler les données, nous pouvons utiliser le bloc de données de Spark et le module SQL présenté dans la section 1.\n",
    "\n",
    "La cellule de code suivante utilise le module Spark SQL pour lire les commandes de ``order_products__train.csv`` et les informations détaillées de ``orders.csv`` et ``products.csv`` pour construire une dataframe qui contient un liste de tous les produits jamais achetés par chaque utilisateur."
   ]
  },
  {
   "cell_type": "code",
   "execution_count": 14,
   "metadata": {
    "colab": {
     "base_uri": "https://localhost:8080/"
    },
    "id": "6oB1eTkeMa0W",
    "outputId": "7d29d156-5143-4c73-ed56-fec71016311e"
   },
   "outputs": [
    {
     "name": "stdout",
     "output_type": "stream",
     "text": [
      "order_products__train.csv\n",
      "+--------+----------+-----------------+---------+\n",
      "|order_id|product_id|add_to_cart_order|reordered|\n",
      "+--------+----------+-----------------+---------+\n",
      "|       1|     49302|                1|        1|\n",
      "|       1|     11109|                2|        1|\n",
      "|       1|     10246|                3|        0|\n",
      "|       1|     49683|                4|        0|\n",
      "|       1|     43633|                5|        1|\n",
      "+--------+----------+-----------------+---------+\n",
      "only showing top 5 rows\n",
      "\n",
      "orders.csv\n",
      "+--------+-------+--------+------------+---------+-----------------+----------------------+\n",
      "|order_id|user_id|eval_set|order_number|order_dow|order_hour_of_day|days_since_prior_order|\n",
      "+--------+-------+--------+------------+---------+-----------------+----------------------+\n",
      "| 2539329|      1|   prior|           1|        2|                8|                  null|\n",
      "| 2398795|      1|   prior|           2|        3|                7|                  15.0|\n",
      "|  473747|      1|   prior|           3|        3|               12|                  21.0|\n",
      "| 2254736|      1|   prior|           4|        4|                7|                  29.0|\n",
      "|  431534|      1|   prior|           5|        4|               15|                  28.0|\n",
      "+--------+-------+--------+------------+---------+-----------------+----------------------+\n",
      "only showing top 5 rows\n",
      "\n",
      "products.csv\n",
      "+----------+--------------------+--------+-------------+\n",
      "|product_id|        product_name|aisle_id|department_id|\n",
      "+----------+--------------------+--------+-------------+\n",
      "|         1|Chocolate Sandwic...|      61|           19|\n",
      "|         2|    All-Seasons Salt|     104|           13|\n",
      "|         3|Robust Golden Uns...|      94|            7|\n",
      "|         4|Smart Ones Classi...|      38|            1|\n",
      "|         5|Green Chile Anyti...|       5|           13|\n",
      "+----------+--------------------+--------+-------------+\n",
      "only showing top 5 rows\n",
      "\n",
      "departments.csv\n",
      "+-------------+----------+\n",
      "|department_id|department|\n",
      "+-------------+----------+\n",
      "|            1|    frozen|\n",
      "|            2|     other|\n",
      "|            3|    bakery|\n",
      "|            4|   produce|\n",
      "|            5|   alcohol|\n",
      "+-------------+----------+\n",
      "only showing top 5 rows\n",
      "\n",
      "+-------+--------------------------------------------------------------------------------+\n",
      "|user_id|                                                                        products|\n",
      "+-------+--------------------------------------------------------------------------------+\n",
      "|      1|[Soda, Organic String Cheese, 0% Greek Strained Yogurt, XL Pick-A-Size Paper ...|\n",
      "|      2|[Organic Roasted Turkey Breast, Gluten Free Whole Grain Bread, Plantain Chips...|\n",
      "|      5|[Organic Raw Agave Nectar, Organic Large Extra Fancy Fuji Apple, Sharp Chedda...|\n",
      "|      7|[Panama Peach Antioxidant Infusion, Antioxidant Infusions Beverage Malawi Man...|\n",
      "|      8|[Shallot, Organic SprouTofu Silken Tofu, Nutritional Yeast Seasoning, Organic...|\n",
      "+-------+--------------------------------------------------------------------------------+\n",
      "only showing top 5 rows\n",
      "\n"
     ]
    }
   ],
   "source": [
    "df_order_prod = spark.read.csv('instacart/order_products__train.csv', header=True, sep=',', inferSchema=True)\n",
    "#df_order_prod = spark.read.csv('gs://inf81111-bucket-tp2-12781749821/instacart/order_products__train.csv', header=True, sep=',', inferSchema=True)\n",
    "print('order_products__train.csv')\n",
    "df_order_prod.show(5)\n",
    "\n",
    "df_orders = spark.read.csv('instacart/orders.csv', header=True, sep=',', inferSchema=True)\n",
    "#df_orders = spark.read.csv('gs://inf81111-bucket-tp2-12781749821/instacart/orders.csv', header=True, sep=',', inferSchema=True)\n",
    "print('orders.csv')\n",
    "df_orders.show(5)\n",
    "\n",
    "df_products = spark.read.csv('instacart/products.csv', header=True, sep=',', inferSchema=True)\n",
    "#df_products = spark.read.csv('gs://inf81111-bucket-tp2-12781749821/instacart/products.csv', header=True, sep=',', inferSchema=True)\n",
    "print('products.csv')\n",
    "df_products.show(5)\n",
    "\n",
    "df_departments = spark.read.csv('instacart/departments.csv', header=True, sep=',', inferSchema=True)\n",
    "#df_orders = spark.read.csv('gs://inf81111-bucket-tp2-12781749821/instacart/departments.csv', header=True, sep=',', inferSchema=True)\n",
    "print('departments.csv')\n",
    "df_departments.show(5)\n",
    "\n",
    "\n",
    "\"\"\"\n",
    "List of products ever purchased by each user\n",
    "\"\"\"\n",
    "# USING SQL\n",
    "df_order_prod.createOrReplaceTempView(\"order_prod\") # creates table 'order_prod'\n",
    "df_orders.createOrReplaceTempView(\"orders\") # creates table 'orders'\n",
    "df_products.createOrReplaceTempView(\"products\") # creates table 'products'\n",
    "df_departments.createOrReplaceTempView(\"departments\") # creates table 'departments'\n",
    "spark.sql('SELECT o.user_id, COLLECT_LIST(p.product_name) AS products' \n",
    "               ' FROM orders o '\n",
    "               ' INNER JOIN order_prod op ON op.order_id = o.order_id'\n",
    "               ' INNER JOIN products p    ON op.product_id = p.product_id'\n",
    "               ' GROUP BY user_id ORDER BY o.user_id').show(5, truncate=80)\n",
    "\n",
    "\n",
    "# USING DATAFRAME OPERATIONS\n",
    "# df_orders.join(df_order_prod, df_order_prod.order_id == df_orders.order_id, 'inner')\\\n",
    "# .join(df_products, df_products.product_id == df_order_prod.product_id, 'inner')\\\n",
    "# .groupBy(df_orders.user_id).agg(f.collect_list(df_products.product_name).alias('products'))\\\n",
    "# .orderBy(df_orders.user_id).show(5, truncate=80)"
   ]
  },
  {
   "cell_type": "markdown",
   "metadata": {
    "id": "JEqVeqhkMa0a"
   },
   "source": [
    "### 3.1 Perspectives commerciales (20 points) \n",
    "\n",
    "Maintenant, vous êtes le *data scientist*. En ne considérant que les commandes de ``order_products__train.csv``, l'utilisation du module Spark SQL, performant avec SQL ou dataframe, pour répondre aux questions suivantes:\n",
    "\n",
    "1. Quels sont les 10 produits les plus susceptibles d'être commandé de nouveau? Ne considérez que les produits achetés au moins 40 fois pour cette tâche.\n",
    "2. Quels sont les 3 produits les plus achetés dans chaque département?\n",
    "4. Quelle est la taille moyenne du panier pour chaque jour de la semaine?\n",
    "    - utilisez un barplot pour visualiser vos résultats\n",
    "\n",
    "**La sortie de ces questions doit contenir le NOM des produits, pas leur ID.**"
   ]
  },
  {
   "cell_type": "code",
   "execution_count": 16,
   "metadata": {
    "colab": {
     "base_uri": "https://localhost:8080/"
    },
    "id": "ZNKRwe6JCZNP",
    "outputId": "88e08a23-26d0-48e0-8ea1-c094a09fb219"
   },
   "outputs": [
    {
     "name": "stdout",
     "output_type": "stream",
     "text": [
      "+--------------------+----------+----------+\n",
      "|        product_name|product_id|nb_reorder|\n",
      "+--------------------+----------+----------+\n",
      "|              Banana|     24852|     16557|\n",
      "|Bag of Organic Ba...|     13176|     13362|\n",
      "|Organic Strawberries|     21137|      8603|\n",
      "|Organic Baby Spinach|     21903|      8055|\n",
      "|     Organic Avocado|     47766|      6226|\n",
      "|Organic Hass Avocado|     47209|      6042|\n",
      "|         Large Lemon|     47626|      5923|\n",
      "|        Strawberries|     16797|      4786|\n",
      "| Organic Raspberries|     27966|      4279|\n",
      "|               Limes|     26209|      4234|\n",
      "+--------------------+----------+----------+\n",
      "\n"
     ]
    }
   ],
   "source": [
    "spark.sql('SELECT p.product_name, op.product_id, SUM(op.reordered) as nb_reorder'\n",
    "            ' FROM order_prod op'\n",
    "            ' JOIN products p ON op.product_id==p.product_id'\n",
    "            ' GROUP BY p.product_name, op.product_id'\n",
    "            ' HAVING op.product_id IN'\n",
    "            '   (SELECT op.product_id'\n",
    "            '   FROM order_prod op'\n",
    "            '   GROUP BY op.product_id'\n",
    "            '   HAVING COUNT(DISTINCT op.order_id)>=40)'\n",
    "            ' ORDER BY nb_reorder DESC'\n",
    "            ' LIMIT 10').show(10)"
   ]
  },
  {
   "cell_type": "code",
   "execution_count": 17,
   "metadata": {
    "colab": {
     "base_uri": "https://localhost:8080/"
    },
    "id": "yggSE-XgCbUK",
    "outputId": "46dbe033-2149-41b1-9e4e-b4396bb1ec3c"
   },
   "outputs": [
    {
     "name": "stdout",
     "output_type": "stream",
     "text": [
      "+---------------+-------------+--------------------+----------+--------+\n",
      "|     department|department_id|        product_name|product_id|nb_order|\n",
      "+---------------+-------------+--------------------+----------+--------+\n",
      "|         frozen|            1|         Blueberries|      9076|    2323|\n",
      "|         frozen|            1|Organic Broccoli ...|     20995|    1361|\n",
      "|         frozen|            1|Organic Whole Str...|     24489|    1213|\n",
      "|           bulk|           10|         Dried Mango|      5161|     446|\n",
      "|           bulk|           10| Organic Rolled Oats|     22260|     259|\n",
      "|           bulk|           10|Organic Black Mis...|     22827|     125|\n",
      "|  personal care|           11|        Cotton Swabs|     33493|     258|\n",
      "|  personal care|           11|  Lavender Hand Soap|     12312|     258|\n",
      "|  personal care|           11|Lemon Verbena Han...|     27544|     191|\n",
      "|   meat seafood|           12|Boneless Skinless...|     25890|    2088|\n",
      "|   meat seafood|           12|Ground Turkey Breast|     38293|     958|\n",
      "|   meat seafood|           12|Boneless Skinless...|      6046|     943|\n",
      "|         pantry|           13|Extra Virgin Oliv...|     31506|    2068|\n",
      "|         pantry|           13|Creamy Peanut Butter|     16953|     991|\n",
      "|         pantry|           13|Creamy Almond Butter|     30450|     850|\n",
      "|      breakfast|           14|  Honey Nut Cheerios|     41844|    1218|\n",
      "|      breakfast|           14|Organic Old Fashi...|     44422|     747|\n",
      "|      breakfast|           14|  Raisin Bran Cereal|      6187|     600|\n",
      "|   canned goods|           15| Organic Black Beans|     27156|    1576|\n",
      "|   canned goods|           15|No Salt Added Bla...|     28849|    1250|\n",
      "|   canned goods|           15|Organic Garbanzo ...|     42768|    1141|\n",
      "|     dairy eggs|           16|  Organic Whole Milk|     27845|    4908|\n",
      "|     dairy eggs|           16| Organic Half & Half|     49235|    2646|\n",
      "|     dairy eggs|           16|         Half & Half|     27086|    2424|\n",
      "|      household|           17|100% Recycled Pap...|      8021|    1183|\n",
      "|      household|           17|Sustainably Soft ...|      2086|     821|\n",
      "|      household|           17|       Aluminum Foil|     31066|     407|\n",
      "|         babies|           18|Baby Food Stage 2...|     43875|     310|\n",
      "|         babies|           18|Spinach Peas & Pe...|     34134|     268|\n",
      "|         babies|           18|Gluten Free Spong...|      2611|     259|\n",
      "|         snacks|           19|Lightly Salted Ba...|     13870|     991|\n",
      "|         snacks|           19|Pretzel Crisps Or...|     21376|     753|\n",
      "|         snacks|           19| Sea Salt Pita Chips|     31040|     707|\n",
      "|          other|            2|Roasted Almond Bu...|     38662|     174|\n",
      "|          other|            2|Light CocoWhip! C...|     26756|      86|\n",
      "|          other|            2|Roasted Unsalted ...|     20406|      62|\n",
      "|           deli|           20|     Original Hummus|     30489|    2858|\n",
      "|           deli|           20|Uncured Genoa Salami|     27344|    1788|\n",
      "|           deli|           20|Organic Extra Fir...|     42585|    1186|\n",
      "|        missing|           21|Organic Riced Cau...|     41149|     823|\n",
      "|        missing|           21|Peanut Butter Ice...|      7035|     261|\n",
      "|        missing|           21|Organic Celery Bunch|     38510|     200|\n",
      "|         bakery|            3|100% Whole Wheat ...|      5077|    2298|\n",
      "|         bakery|            3|Organic Bread wit...|     18362|     938|\n",
      "|         bakery|            3|     Sourdough Bread|     21267|     738|\n",
      "|        produce|            4|              Banana|     24852|   18726|\n",
      "|        produce|            4|Bag of Organic Ba...|     13176|   15480|\n",
      "|        produce|            4|Organic Strawberries|     21137|   10894|\n",
      "|        alcohol|            5|     Sauvignon Blanc|      2120|     295|\n",
      "|        alcohol|            5|  Cabernet Sauvignon|     33065|     237|\n",
      "|        alcohol|            5|                Beer|     46088|     224|\n",
      "|  international|            6|      Taco Seasoning|      2450|     405|\n",
      "|  international|            6|Organic Sea Salt ...|     36724|     345|\n",
      "|  international|            6|New Mexico Taco S...|     39430|     224|\n",
      "|      beverages|            7|Sparkling Water G...|     44632|    3359|\n",
      "|      beverages|            7|        Spring Water|     19660|    2225|\n",
      "|      beverages|            7|Lime Sparkling Water|     35221|    1966|\n",
      "|           pets|            8|Double Duty Advan...|     16647|      84|\n",
      "|           pets|            8|24/7 Performance ...|        54|      76|\n",
      "|           pets|            8|Instant Action Ca...|     49355|      73|\n",
      "|dry goods pasta|            9|Organic Tomato Ba...|     39619|     772|\n",
      "|dry goods pasta|            9|      Marinara Sauce|     23375|     754|\n",
      "|dry goods pasta|            9|         Basil Pesto|     12206|     699|\n",
      "+---------------+-------------+--------------------+----------+--------+\n",
      "\n"
     ]
    }
   ],
   "source": [
    "spark.sql('SELECT d.department, r.department_id, r.product_name, r.product_id, r.nb_order'\n",
    "          ' FROM (SELECT p.product_name, opp.product_id, p.department_id, opp.nb_order, row_number()'\n",
    "          ' OVER (PARTITION BY p.department_id ORDER BY nb_order DESC) AS dep_rank'\n",
    "          ' FROM (SELECT op.product_id, COUNT(DISTINCT op.order_id) as nb_order'\n",
    "          '       FROM order_prod op'\n",
    "          '       GROUP BY op.product_id) opp'\n",
    "          ' JOIN products p ON opp.product_id==p.product_id'\n",
    "          ' GROUP BY p.product_name, opp.product_id, p.department_id, opp.nb_order) r'\n",
    "          ' JOIN departments d ON r.department_id==d.department_id'\n",
    "          ' WHERE dep_rank<=3').show(65)"
   ]
  },
  {
   "cell_type": "code",
   "execution_count": 18,
   "metadata": {
    "colab": {
     "base_uri": "https://localhost:8080/"
    },
    "id": "g5hZCEz3Ccwd",
    "outputId": "a1e44040-1ffb-4769-a627-c05aacf8d37a"
   },
   "outputs": [
    {
     "name": "stdout",
     "output_type": "stream",
     "text": [
      "+---------+------------------+\n",
      "|order_dow|               avg|\n",
      "+---------+------------------+\n",
      "|        0|11.797778991443655|\n",
      "|        1|10.470618137454249|\n",
      "|        2|  9.96103976673491|\n",
      "|        3|  9.84133358832154|\n",
      "|        4| 9.742527727301209|\n",
      "|        5|10.163736642537057|\n",
      "|        6|10.966562615734617|\n",
      "+---------+------------------+\n",
      "\n"
     ]
    }
   ],
   "source": [
    "r3 = spark.sql('SELECT r.order_dow, AVG(r.order_size) as avg'\n",
    "          ' FROM (SELECT o.order_id, o.order_dow, COUNT(DISTINCT op.product_id) as order_size'\n",
    "          ' FROM orders o'\n",
    "          ' JOIN order_prod op ON o.order_id==op.order_id'\n",
    "          ' GROUP BY o.order_id, o.order_dow) r'\n",
    "          ' GROUP BY r.order_dow'\n",
    "          ' ORDER BY r.order_dow ASC')\n",
    "r3.show(10)"
   ]
  },
  {
   "cell_type": "code",
   "execution_count": 19,
   "metadata": {
    "colab": {
     "base_uri": "https://localhost:8080/",
     "height": 294
    },
    "id": "ksOOiBqcCeQl",
    "outputId": "9468c286-271c-4334-cd1d-b0781f5244d2"
   },
   "outputs": [
    {
     "data": {
      "text/plain": [
       "<matplotlib.axes._subplots.AxesSubplot at 0x7f3671d20cd0>"
      ]
     },
     "execution_count": 19,
     "metadata": {},
     "output_type": "execute_result"
    },
    {
     "data": {
      "image/png": "[encoded data removed]",
      "text/plain": [
       "<Figure size 432x288 with 1 Axes>"
      ]
     },
     "metadata": {
      "needs_background": "light"
     },
     "output_type": "display_data"
    }
   ],
   "source": [
    "import matplotlib.pyplot as plt\n",
    "r3.toPandas().plot.bar(x = 'order_dow', y = 'avg')"
   ]
  },
  {
   "cell_type": "markdown",
   "metadata": {
    "id": "PEWqTH1QMa0a"
   },
   "source": [
    "### 3.2 MBA pour le training set (15 points)\n",
    "\n",
    "En utilisant les commandes du ``order_products__train.csv``, créez un bloc de données où chaque ligne contient la colonne ``transaction`` avec la liste des produits achetés, de manière similaire à le toy dataset. Ensuite, exécutez l'algorithme MBA pour cet ensemble de transactions.\n",
    "\n",
    "- Vous devez signaler le temps passé pour effectuer cette tâche.\n",
    "- La sortie doit contenir le nom des produits."
   ]
  },
  {
   "cell_type": "code",
   "execution_count": null,
   "metadata": {
    "colab": {
     "base_uri": "https://localhost:8080/"
    },
    "id": "vxZh_f3hMa0b",
    "outputId": "37c5a267-aac0-41a3-af91-42b12ade8126"
   },
   "outputs": [
    {
     "name": "stdout",
     "output_type": "stream",
     "text": [
      "order_products__train.csv\n",
      "+--------+----------+-----------------+---------+\n",
      "|order_id|product_id|add_to_cart_order|reordered|\n",
      "+--------+----------+-----------------+---------+\n",
      "|       1|     49302|                1|        1|\n",
      "|       1|     11109|                2|        1|\n",
      "|       1|     10246|                3|        0|\n",
      "|       1|     49683|                4|        0|\n",
      "|       1|     43633|                5|        1|\n",
      "+--------+----------+-----------------+---------+\n",
      "only showing top 5 rows\n",
      "\n"
     ]
    },
    {
     "name": "stderr",
     "output_type": "stream",
     "text": [
      "[Stage 62:=========>                                                (1 + 5) / 6]\r"
     ]
    },
    {
     "name": "stdout",
     "output_type": "stream",
     "text": [
      "[Row(order_id=1139, transaction='Banana;Organic Strawberries;Red Vine Tomato;Organic Bakery Hamburger Buns Wheat - 8 CT;Guacamole;Picnic Potato Salad;Cinnamon Rolls with Icing;Flaky Biscuits;Buttermilk Biscuits'), Row(order_id=1143, transaction='Natural Premium Coconut Water;Calming Lavender Body Wash;Unscented Long Lasting Stick Deodorant;Organic Raspberries;Organic Blueberries;Organic Hass Avocado;Organic Butterhead (Boston, Butter, Bibb) Lettuce;Baby Arugula;Large Lemon;Organic Garlic;Organic Red Radish, Bunch;Rustic Baguette;Organic Brussel Sprouts;Organic Capellini Whole Wheat Pasta;Basil Pesto;Spring Water;Water'), Row(order_id=1342, transaction='Bag of Organic Bananas;Seedless Cucumbers;Organic Mandarins;Organic Strawberries;Versatile Stain Remover;Pink Lady Apples;Chicken Apple Sausage;Raw Shrimp'), Row(order_id=1468, transaction='Banana;Organic Ginger Root;Cage Free Grade AA Large White Eggs;Active Dry Yeast;Bartlett Pears;Natural Mini Pork Pepperoni;Organic Lacinato (Dinosaur) Kale;Pomegranate Seeds;Organic English Cucumber;Organic Red Potato;Organic Red Radish, Bunch;Carrots;Organic Baby Broccoli;Fresh Cauliflower;Organic Hass Avocado;Red Peppers;Organic Grape Tomatoes'), Row(order_id=1591, transaction='Cracked Wheat;Organic Greek Whole Milk Blended Vanilla Bean Yogurt;Navel Oranges;Spinach;Original Patties (100965) 12 Oz Breakfast;Cinnamon Multigrain Cereal;Chewy 25% Low Sugar Chocolate Chip Granola;Uncured Genoa Salami;Natural Vanilla Ice Cream;Lemon Yogurt;Strawberry Rhubarb Yoghurt;Garlic;Pure Vanilla Extract;Lower Sugar Instant Oatmeal  Variety;Organic Bunny Fruit Snacks Berry Patch;Buttermilk Waffles;Granny Smith Apples;Medium Scarlet Raspberries;Banana;Strawberry Banana Smoothie;Green Machine Juice Smoothie;Ultra Thin Sliced Provolone Cheese;Oven Roasted Turkey Breast;Original Turkey Burgers Smoke Flavor Added;Original Whole Grain Chips;Goldfish Pretzel Baked Snack Crackers;Twisted Tropical Tango Organic Juice Drink;Goodness Grapeness Organic Juice Drink;Nutty Bars;Honey Graham Snacks;Coconut Dreams Cookies')]\n",
      "CPU times: user 7.43 ms, sys: 3.73 ms, total: 11.2 ms\n",
      "Wall time: 2.5 s\n"
     ]
    },
    {
     "name": "stderr",
     "output_type": "stream",
     "text": [
      "                                                                                \r"
     ]
    }
   ],
   "source": [
    "%%time\n",
    "\"\"\"\n",
    "TODO: create a query to create and sctruct the transactions\n",
    "\"\"\"\n",
    "#df_order_prod = spark.read.csv('instacart/order_products__train.csv', header=True, sep=',', inferSchema=True)\n",
    "df_order_prod = spark.read.csv('gs://inf81111-bucket-tp2-12781749821/instacart/order_products__train.csv', header=True, sep=',', inferSchema=True)\n",
    "print('order_products__train.csv')\n",
    "df_order_prod.show(5)\n",
    "\n",
    "df_order_prod.createOrReplaceTempView(\"order_prod\") # creates table 'order_prod'\n",
    "\n",
    "order_product_rdd = spark.sql('SELECT op.order_id, CONCAT_WS(\";\", COLLECT_LIST(p.product_name)) AS transaction'\n",
    "            ' FROM order_prod op'\n",
    "            ' JOIN products p ON op.product_id=p.product_id'\n",
    "            ' GROUP BY op.order_id').rdd\n",
    "print(order_product_rdd.take(5))"
   ]
  },
  {
   "cell_type": "code",
   "execution_count": null,
   "metadata": {
    "colab": {
     "base_uri": "https://localhost:8080/"
    },
    "id": "dewN0YUEMa0h",
    "outputId": "500da641-1e55-498a-c208-1a96ec955430"
   },
   "outputs": [
    {
     "name": "stdout",
     "output_type": "stream",
     "text": [
      "CPU times: user 10.8 ms, sys: 555 µs, total: 11.4 ms\n",
      "Wall time: 28.2 ms\n"
     ]
    }
   ],
   "source": [
    "%%time\n",
    "\"\"\"\n",
    "TODO: run the MBA algorithm and show the first 5 association rules\n",
    "\"\"\"\n",
    "op_patterns_rdd = order_product_rdd.flatMap(map_to_patterns)\n",
    "\n",
    "op_combined_patterns_rdd = op_patterns_rdd.reduceByKey(reduce_patterns)\n",
    "\n",
    "op_subpatterns_rdd = op_combined_patterns_rdd.flatMap(map_to_subpatterns)\n",
    "\n",
    "op_combined_rules = op_subpatterns_rdd.aggregateByKey([], lambda x,y: x + [y] , lambda x,y: x + y)\n",
    "\n",
    "op_assoc_rules = op_combined_rules.map(map_to_assoc_rules)"
   ]
  },
  {
   "cell_type": "code",
   "execution_count": null,
   "metadata": {
    "id": "jxnnJPtxUH6u",
    "outputId": "93b7dd85-7469-4a41-ab64-21d293438842"
   },
   "outputs": [
    {
     "name": "stderr",
     "output_type": "stream",
     "text": [
      "Exception in thread \"serve RDD 211 with partitions 0\" java.net.SocketTimeoutException: Accept timed out\n",
      "\tat java.net.PlainSocketImpl.socketAccept(Native Method)\n",
      "\tat java.net.AbstractPlainSocketImpl.accept(AbstractPlainSocketImpl.java:409)\n",
      "\tat java.net.ServerSocket.implAccept(ServerSocket.java:560)\n",
      "\tat java.net.ServerSocket.accept(ServerSocket.java:528)\n",
      "\tat org.apache.spark.security.SocketAuthServer$$anon$1.run(SocketAuthServer.scala:64)\n",
      "[Stage 73:>                                                         (0 + 1) / 1]\r"
     ]
    },
    {
     "name": "stdout",
     "output_type": "stream",
     "text": [
      "+---------------------------------------------------------------+----------------------------------------------------------------------------------------------------+\n",
      "|                                                       patterns|                                                                                   association_rules|\n",
      "+---------------------------------------------------------------+----------------------------------------------------------------------------------------------------+\n",
      "|('Febreze Fresh Clean Garbage Bags', 'Sparkling Mineral Water')|[('Organic Fuji Apple', 0.25), ('Smartwater Electrolyte Enhanced Water', 0.25), ('Complete Action...|\n",
      "|('Garden Salsa Multigrain Chips', \"Veggie Lover's Salad Blend\")|[('The Tonight Dough™ Ice Cream', 0.25), ('Apple, Juicy Red, Family Pack', 0.25), ('Sun Dried Tom...|\n",
      "|      ('Blueberries', 'Disinfecting Wipes Lemon & Fresh Scent')|[('Arnold Palmer Lite Half Iced Tea & Half Lemonade', 1.0), ('Original String Cheese', 1.0), ('Cr...|\n",
      "|                         ('Cauliflower', 'Organic Frozen Peas')|[('Colby Cheese Sticks', 0.25), ('Herbed Chicken Couscous', 0.25), ('Sparkling Lemon Water', 0.25...|\n",
      "|                                 ('Cantaloupe', 'Organic Kiwi')|[('Sugar Snap Peas', 0.023255813953488372), ('Sonoma Organic Wraps Multigrain Tortillas With Flax...|\n",
      "+---------------------------------------------------------------+----------------------------------------------------------------------------------------------------+\n",
      "only showing top 5 rows\n",
      "\n"
     ]
    },
    {
     "name": "stderr",
     "output_type": "stream",
     "text": [
      "                                                                                \r"
     ]
    }
   ],
   "source": [
    "%%time\n",
    "# Output as dataframe\n",
    "op_assoc_rules.map(format_tuples).toDF(['patterns', 'association_rules']).show(5, truncate=100)"
   ]
  },
  {
   "cell_type": "markdown",
   "metadata": {
    "id": "5DkNPEtGMa0l"
   },
   "source": [
    "# 3.3 MBA pour le dataset complet (20 points)\n",
    "\n",
    "Comme vous l'avez probablement remarqué, même pour un ensemble de données moins volumineux (le training dataset ne contient que 131 000 commandes), l'algorithme MBA est coûteux en calcul. Pour cette raison, cette fois, nous allons répéter le processus, mais en utilisant maintenant Google Cloud Platform (GCP) pour créer un grand cluster. Toutes les instructions pour créer un cluster avec spark et comment soumettre un travail seront expliquées dans le laboratoire. Dans tous les cas, vous devez lire les instructions données dans le ``Instruction_GCP.pdf``.\n",
    "\n",
    "Cette fois, nous travaillerons avec le fichier ``order_products__prior.csv``, qui contient plus de 3M commandes.\n",
    "\n",
    "**PRODUCTION ATTENDUE**\n",
    "\n",
    "Après avoir exécuté le MBA pour la plus grande collection de commandes, sélectionnez au hasard UN produit acheté dans ``order_products__prior`` et affichez les règles d'association (nom du produit et valeur d'association) de ce produit, c'est-à-dire lorsque le produit est seul dans le panier. La sortie doit être formatée dans un tableau, où chaque ligne contenant les informations d'un produit associé. \n",
    "\n",
    "- Affichez l'ID et le nom du produit sélectionné au hasard.\n",
    "- Signaler le temps d'exécution.\n",
    "\n",
    "**Remarque importante : joignez des captures d'écran de votre sortie et de votre configuration de cluster.** "
   ]
  },
  {
   "cell_type": "code",
   "execution_count": null,
   "metadata": {
    "id": "X1cVWxraMa0l",
    "outputId": "96628978-ee44-4d27-b3eb-97dfb3affe4d"
   },
   "outputs": [
    {
     "name": "stderr",
     "output_type": "stream",
     "text": [
      "                                                                                \r"
     ]
    },
    {
     "name": "stdout",
     "output_type": "stream",
     "text": [
      "CPU times: user 6.15 ms, sys: 5.06 ms, total: 11.2 ms\n",
      "Wall time: 3.36 s\n"
     ]
    },
    {
     "name": "stderr",
     "output_type": "stream",
     "text": [
      "[Stage 81:=========>                                                (1 + 5) / 6]\r"
     ]
    }
   ],
   "source": [
    "%%time\n",
    "\"\"\"\n",
    "TODO: create a query to create and sctruct the transactions from the order_products__prior.csv file\n",
    "\"\"\"\n",
    "#df_order_prod_prior = spark.read.csv('instacart/order_products__prior.csv', header=True, sep=',', inferSchema=True)\n",
    "df_order_prod_prior = spark.read.csv('gs://inf81111-bucket-tp2-12781749821/instacart/order_products__prior.csv', header=True, sep=',', inferSchema=True)\n",
    "\n",
    "df_order_prod_prior.createOrReplaceTempView(\"order_prod_prior\") # creates table 'order_prod'\n",
    "\n",
    "order_product_prior_rdd = spark.sql('SELECT op.order_id, CONCAT_WS(\";\", COLLECT_LIST(p.product_name)) AS transaction'\n",
    "            ' FROM order_prod op'\n",
    "            ' JOIN products p ON op.product_id=p.product_id'\n",
    "            ' GROUP BY op.order_id').rdd"
   ]
  },
  {
   "cell_type": "code",
   "execution_count": null,
   "metadata": {
    "id": "MVBQ12b2Ma0o",
    "outputId": "f82b5196-46a3-4613-da34-a145de1f9881"
   },
   "outputs": [
    {
     "name": "stdout",
     "output_type": "stream",
     "text": [
      "CPU times: user 5.72 ms, sys: 4.87 ms, total: 10.6 ms\n",
      "Wall time: 25.7 ms\n"
     ]
    }
   ],
   "source": [
    "%%time\n",
    "\"\"\"\n",
    "TODO: run the MBA algorithm and print the requested output\n",
    "\"\"\"\n",
    "op_prior_patterns_rdd = order_product_prior_rdd.flatMap(map_to_patterns)\n",
    "\n",
    "op_prior_combined_patterns_rdd = op_prior_patterns_rdd.reduceByKey(reduce_patterns)\n",
    "\n",
    "op_prior_subpatterns_rdd = op_prior_combined_patterns_rdd.flatMap(map_to_subpatterns)\n",
    "\n",
    "op_prior_combined_rules = op_prior_subpatterns_rdd.aggregateByKey([], lambda x,y: x + [y] , lambda x,y: x + y)\n",
    "\n",
    "op_prior_assoc_rules = op_prior_combined_rules.map(map_to_assoc_rules)"
   ]
  },
  {
   "cell_type": "code",
   "execution_count": null,
   "metadata": {
    "id": "HA_f6MokUEQi",
    "outputId": "18fc00f9-4a04-41b9-c9fb-f2d67b172cf9"
   },
   "outputs": [
    {
     "name": "stderr",
     "output_type": "stream",
     "text": [
      "[Stage 89:>                                                         (0 + 1) / 1]\r"
     ]
    },
    {
     "name": "stdout",
     "output_type": "stream",
     "text": [
      "+-------------------------------------------------------------------------+----------------------------------------------------------------------------------------------------+\n",
      "|                                                                 patterns|                                                                                   association_rules|\n",
      "+-------------------------------------------------------------------------+----------------------------------------------------------------------------------------------------+\n",
      "|               ('Organic Classic Original Hummus', 'Organic Red Cabbage')|[('Apple Cider Vinegar', 1.0), ('Plain Cultured Goat Milk Kefir', 1.0), ('Celery Sticks', 1.0), (...|\n",
      "|                               ('1% Lowfat Milk', 'Organic Power Greens')|[('Lime Sparkling Water', 1.0), ('Mighty Mango Juice Smoothie', 1.0), ('Banana', 1.0), ('Protein ...|\n",
      "|                                           ('Red Vine Tomato', 'Spinach')|[('Soft and Chewy Candy', 0.02857142857142857), ('Whole White Mushrooms', 0.02857142857142857), (...|\n",
      "|('Organic Chicken Noodle Soup, Reduced Sodium', 'Organic Yellow Peaches')|[('Banana & Mango Organic Yogurt & Fruit Snacks\\xa0', 1.0), ('Cold-Brew Black Coffee', 1.0), ('Na...|\n",
      "|                    ('Apple Cinnamon GoGo Squeez', 'Wild Berry Smoothie')|[('New Mexico Taco Skillet Sauce For Chicken', 0.16666666666666666), ('Apricot Fruit Spread Organ...|\n",
      "+-------------------------------------------------------------------------+----------------------------------------------------------------------------------------------------+\n",
      "only showing top 5 rows\n",
      "\n",
      "CPU times: user 163 ms, sys: 42.2 ms, total: 205 ms\n",
      "Wall time: 20min 45s\n"
     ]
    },
    {
     "name": "stderr",
     "output_type": "stream",
     "text": [
      "                                                                                \r"
     ]
    }
   ],
   "source": [
    "%%time\n",
    "# Output as dataframe\n",
    "op_prior_assoc_rules.map(format_tuples).toDF(['patterns', 'association_rules']).show(5, truncate=100)"
   ]
  },
  {
   "cell_type": "code",
   "execution_count": null,
   "metadata": {
    "id": "oHPzNjQIBTRd",
    "outputId": "662fcd66-99b5-4cca-c78f-f7b81123007b"
   },
   "outputs": [
    {
     "name": "stdout",
     "output_type": "stream",
     "text": [
      "+----------+------------------+\n",
      "|product_id|product_name      |\n",
      "+----------+------------------+\n",
      "|44170     |Tomato Basil Sauce|\n",
      "+----------+------------------+\n",
      "\n",
      "None\n",
      "CPU times: user 6.71 ms, sys: 5.29 ms, total: 12 ms\n",
      "Wall time: 1.29 s\n"
     ]
    },
    {
     "name": "stderr",
     "output_type": "stream",
     "text": [
      "                                                                                \r"
     ]
    }
   ],
   "source": [
    "%%time\n",
    "random_product = spark.sql('SELECT p.product_id, p.product_name'\n",
    "            ' FROM order_prod op'\n",
    "            ' JOIN products p ON op.product_id=p.product_id'\n",
    "            ' ORDER BY RAND()'\n",
    "            ' LIMIT 1').rdd.toDF(['product_id', 'product_name'])\n",
    "\n",
    "print(random_product.show(1, truncate=False))"
   ]
  },
  {
   "cell_type": "code",
   "execution_count": null,
   "metadata": {
    "id": "786JccQxBTRe",
    "outputId": "d3e0f866-0f5e-43f1-99d2-6fc95076be89"
   },
   "outputs": [
    {
     "name": "stdout",
     "output_type": "stream",
     "text": [
      "Tomato Basil Sauce\n"
     ]
    },
    {
     "name": "stderr",
     "output_type": "stream",
     "text": [
      "[Stage 178:==================================================>      (8 + 1) / 9]\r"
     ]
    },
    {
     "name": "stdout",
     "output_type": "stream",
     "text": [
      "[[('Organic Chopped Spinach', 0.0125), ('Low Fat Vanilla Yogurt', 0.0125), ('Organics Spinach', 0.0125), ('Organic Celery', 0.0125), ('Organic YoKids Very Berry Smoothies', 0.0375), ('Organic Romaine', 0.025), ('Hickory Smoked Turkey Breast', 0.0125), ('Green Beans', 0.0125), ('Hand-Formed Vegan Burger Patties', 0.0125), ('Purity Farms Ghee Clarified Butter', 0.0125), ('Organic Lowfat Plain Unsweetened Kefir', 0.0125), ('Synergy Organic Kombucha Gingerberry', 0.0125), ('Organic Uncured Sliced Black Forest Ham', 0.0125), ('Sweet Potatoes', 0.0125), ('Baked White Cheddar Cheese Puffs', 0.0125), ('Organic Ketchup', 0.0125), ('Organic Tomato Basil Pasta Sauce', 0.0125), ('Organic Garbanzo Beans', 0.0125), ('Solid Albacore Tuna in Water', 0.0125), ('Organic Spinach And Cheese Ravioli', 0.0125), ('Red Raspberries', 0.0125), ('Sweet Potato Yam', 0.0125), ('Dark Chocolate Bar', 0.0125), ('Genovese Pesto With Truffles', 0.0125), ('Buffalo Style Chicken Wings', 0.0125), ('Organic Hothouse Cucumbers', 0.0375), ('EnviroKidz Glute Free & Wheat Free Chocolate Crispy Rice Bars', 0.0125), ('\"Mini 8\"\" Italian Pizza Crusts\"', 0.0125), ('Olive Oil & Sel Gris Sourdough Flatbread', 0.0125), ('Tortilla Chips, Clasico, Jalapeno Lime', 0.0125), ('Mild & Creamy Dijon Mustard', 0.0125), ('Organic Pomegranate', 0.0125), ('Dairy Free Soy Strawberry Alternative', 0.0125), (\"World's Best Mac & Cheese\", 0.0125), ('Butter of Parma', 0.0125), (\"Kid Z Bar Organic S'mores Energy Bars\", 0.0125), ('Total 0% Nonfat Greek Yogurt', 0.0125), ('Organic Whole Milk', 0.0125), ('Truffle Parmesan Macaroni & Cheese Bowl', 0.0125), ('Sea Salt Potato Chips', 0.025), ('English Breakfast Black Tea Bags', 0.0125), ('Raw Probiotics Women probiotic 85 Billion 32 Strains capsules', 0.0125), ('Roasted Red Pepper Hommus', 0.0125), ('Waffle Cut Sweet Potato Seasoned Fries', 0.025), ('Diced Pears In Light Syrup Fruit Cups', 0.0125), ('Dark Chocolate Ice Cream', 0.0125), ('Sundae Syrup Chocolate Flavored, No Mess Cap', 0.0125), ('Organic Red Bell Pepper', 0.0375), ('Organic Balsamic Vinegar Of Modena', 0.0125), ('Garlic', 0.05), ('Turkey Bacon', 0.0125), ('Country Morning White Bread', 0.0125), ('Pure Almond Unsweetened Original Almond Milk', 0.0125), ('Sparkling Seltzer Water', 0.0125), ('Organic Stage 2 Broccoli Pears & Peas Baby Food', 0.0125), ('Original Black Box Tablewater Cracker', 0.0125), ('Organic Heavy Whipping Cream', 0.025), ('Beef Empanada', 0.0125), ('Organic YoBaby Vanilla Yogurt', 0.0125), ('Chewy Granola Bar Chocolate Chip Granola', 0.0125), ('Organic Vegetable Broth', 0.0125), ('Organic Creamy Peanut Butter', 0.025), ('Original Pizza Sauce', 0.0125), ('Unsalted Pure Irish Butter', 0.0125), ('Total Greek Strained Yogurt', 0.025), ('Classic Soda', 0.0125), ('Honeysuckle Liquid Soap for Hand & Body', 0.0125), ('Kalamata Sliced Greek Olives', 0.0125), ('Organic Reduced Fat 2% Milk', 0.0625), ('Milk, Organic, Vitamin D', 0.0125), ('Vanilla Soy Creamer', 0.0125), ('Cantaloupe', 0.0375), ('Organic Extra Large Brown Eggs', 0.0125), ('Banana & Mango Organic Yogurt & Fruit Snacks\\xa0', 0.0125), ('Organic YoKids Smoothie Strawberry Banana Lowfat Yogurt', 0.025), ('Organic Whole String Cheese', 0.0375), ('100 Calorie  Per Bag Popcorn', 0.0125), ('Authentic French Brioche', 0.0125), ('Organic Medium Brown Eggs', 0.0125), ('Goat Milk', 0.0125), ('Large Brown Eggs', 0.0125), ('Baby Portabella Mushrooms', 0.0125), ('Organic Green Beans', 0.0125), ('Organic Large Grade A Brown Eggs', 0.0125), ('Shredded Sharp Cheddar Cheese', 0.025), ('Classic Chicken Salad', 0.0125), ('Organic Green Seedless Grapes', 0.025), ('Petite Peas', 0.0125), ('Fresh Mozzarella Snacking Cheese', 0.0125), ('Gluten Free Spaghetti Pasta', 0.025), ('Organic Raw Pomegranate Kombucha', 0.0125), ('Baby Gold & White Corn', 0.0125), ('Cookies, Chocolate Chip Walnut', 0.0125), ('Organic Mexican Blend Finely Shredded Cheese', 0.0125), ('Organic Orzo', 0.0125), ('Raw Pistachios', 0.0125), ('Provolone Style Slices', 0.0125), ('PlusShot Strawberry Probiotic Juice Drink', 0.0125), ('Organic Banana', 0.025), ('Roasted Turkey', 0.0125), ('Seven Grain Crispy Tenders', 0.0125), ('Organic Original Acai Berry + Guarana Smoothie Packs', 0.0125), ('XL Emerald White Seedless Grapes', 0.0125), ('Unsweetened Whole Milk Peach Greek Yogurt', 0.0125), ('Gluten Free Fusilli', 0.0125), ('Organic Chicken Wings', 0.0125), ('Organic Baby Kale Mix', 0.025), ('Organic Whole Grain', 0.0125), ('Organic Red Potato', 0.0125), ('All Natural French Toast Sticks', 0.0125), ('Ciabatta Bread', 0.0125), ('Organic Extra Virgin Olive Oil', 0.0125), ('Moroccan Mint Herbal Tea', 0.0125), ('Cucumber Kirby', 0.0125), ('Free and Gentle Liquid Laundry Detergent', 0.0125), ('Milk, Reduced Fat, 2% Milkfat', 0.0125), ('100% Whole Wheat Bread', 0.05), ('Mango Sorbet', 0.0125), ('Chunky Chocolate Chip Flax Muffins', 0.0125), ('YoKids Squeezers Organic Low-Fat Yogurt, Strawberry', 0.0125), ('Broccoli Slaw Traditional', 0.0125), ('Raw Almonds', 0.0125), ('100% Recycled 2 Ply Jumbo Paper Towel Roll', 0.0125), ('Organic White Chocolate Peanut Butter Cups', 0.0125), ('Organic White Onions', 0.025), ('Organic Dark Sweet Cherries', 0.0125), ('Salsa, Roja, Hot', 0.025), ('Super Greens Salad', 0.0125), ('Organic Greek Plain Nonfat Yogurt', 0.0125), ('Baked Mini Beef Meatballs', 0.0125), ('Organic Lemon', 0.0625), ('Crispy Wheat, Crackers', 0.0125), ('Organic Sliced Crimini Mushrooms', 0.0125), ('Unsweetened Organic Coconut Milk', 0.0125), ('Organic Steel Cut Oats', 0.0125), ('Fresh Whole Chicken', 0.025), ('50% Reduced Fat Sharp Cheddar Cheese', 0.0125), ('Organic Half Tea & Half Lemonade', 0.025), ('Russet Potato', 0.0375), ('Sparkling Apple Juice', 0.0125), ('Squeezed Lemonade', 0.0125), ('Chocolate Caramel Protein Snack Bar', 0.0125), ('Original Hot Sauce', 0.0125), ('Organic Genoa Salami', 0.0125), ('Limes', 0.0625), ('Uncured Hickory Smoked Sunday Bacon', 0.0125), ('Pizza Sauce', 0.0125), ('Organic Raw Kombucha Gingerade', 0.0125), ('Organic Zucchini Spirals', 0.025), ('Organic Carrot Bunch', 0.0375), ('Hampshire 100% Natural Grade A Pasteurized Sour Cream', 0.0125), ('Organic Whole Grain Wheat English Muffins', 0.0125), ('Organic Baby Arugula', 0.0375), ('Extra Sharp Aged Cheddar Cheese slices', 0.0125), ('Sprouted Whole Wheat Bread', 0.0125), ('Chunky Blue Cheese Dressing', 0.0125), (\"Goat's Milk Cheese\", 0.0125), ('Peanut Butter Ice Cream Cup', 0.0125), ('Thin And Crispy Corn Tortilla Chips', 0.0125), ('Yellow Onions', 0.0875), ('Goat Milk Toddler Formula', 0.0125), ('Organic Whole Wheat Fusilli', 0.0375), ('Large Alfresco Eggs', 0.025), ('Celery Sticks', 0.0125), ('Red Mango', 0.025), ('Total 2% with Strawberry Lowfat Greek Strained Yogurt', 0.0125), ('Organic Soft Wheat Bread', 0.0125), ('Organic Low Fat Cottage Cheese', 0.0125), ('Banana', 0.15), ('Organic Chicken Strips', 0.0125), ('Cheese Pizza', 0.0125), ('100% Florida Grapefruit Juice', 0.0125), ('Mediterranean Style Kefir Cheese Labne', 0.0125), ('Hand Soap Lemongrass', 0.0125), ('Serrano Chile Peppers', 0.0125), ('Asparation/Broccolini/Baby Broccoli', 0.025), ('Yukon Gold Potatoes 5lb Bag', 0.0125), ('Organic Black Beans', 0.025), ('New Orleans Iced Coffee', 0.0125), ('Lite Balsamic Dressing', 0.0125), ('Organic Apple Sauce + Fruit & Veggie Carroty Chop Mashups', 0.0125), ('Artesian Sparkling Water', 0.0125), ('Cherry Tomato Vine', 0.0125), ('Cola Soda', 0.0125), ('Semi-Sweet Mini Chocolate Chips', 0.0125), (\"Sauce Touch O' Heat\", 0.0125), ('Organic Shredded Carrots', 0.0125), ('Organic Sharp Cheddar Cheese', 0.0125), ('Organic Rolled Oats', 0.025), ('Whole Strawberries', 0.0125), ('Capellini No. 1', 0.0125), ('2-Ply Right Size 100% Recycled Paper Towels', 0.0125), ('Organic Strawberry Yogurt & Fruit Snack', 0.0125), ('Organic Low Sodium Vegetable Broth', 0.0125), ('Pasta Joy Ready Organic Brown Rice Pasta Penne', 0.0125), ('Organic Baby Spinach', 0.125), ('Organic Whole Grain Brown Rice Microwaveable Pouches', 0.0125), ('Grated Parmesan', 0.0375), ('Organic Strawberries', 0.175), ('Salt Toothpaste', 0.0125), ('Organic Bunny Fruit Tropical Treat Fruit Snacks', 0.0125), ('Parmesan Cheese Grated from the block', 0.0125), ('Chocolate Bar Milk Stevia Sweetened Salted Almond', 0.0125), ('Organic Iceberg Lettuce', 0.0125), ('Zen Tea', 0.0125), ('Icelandic Style Skyr Non-Fat Strained Plain Yogurt', 0.025), ('Kale Greens Bunch', 0.0125), ('Apple Sauce', 0.0125), ('Organic Asian Chopped Salad Kit', 0.0125), ('Floravital Iron + Herbs Liquid Extract Formula', 0.0125), ('Organic 1% Lowfat Milk', 0.0125), ('Frozen Peaches', 0.0125), ('Apple Cinnamon Instant Oatmeal', 0.0125), ('Shallot', 0.0375), ('Honey & Maple Turkey Breast', 0.0125), ('Original Orange Juice', 0.0125), ('Organic Creamy Milk Chocolate', 0.0125), ('Instant Action Cat Litter', 0.0125), ('Marinara Sauce', 0.025), ('Organic SprouTofu Savory Baked Tofu', 0.0125), ('Organic Gluten Free Elbow Pasta', 0.0125), ('Light & Lean Pasta & Veggie Bowl', 0.0125), ('Root Beer Soda', 0.0125), ('Large Greenhouse Tomato', 0.0125), ('Vanilla Animal Cookies', 0.0125), ('Organic Sweet Mini Peppers', 0.0125), ('Orange Sparkling Water', 0.0125), ('Organic Granulated Tapioca', 0.0125), ('Distilled Water', 0.0375), ('Cultured Low Fat Buttermilk', 0.0125), ('Organic Red Lentil Penne', 0.0125), ('Mandarin Clementine', 0.0125), ('Parsley', 0.0125), ('Organic Mixed Vegetables', 0.0125), ('Vanilla Plant Based Nondairy Beverage', 0.0125), ('Mango Chunks', 0.0125), ('Frozen Organic Wild Blueberries', 0.0125), ('Mushroom Ravioli', 0.0125), ('Rosemary & Olive Oil Quinoa Blend', 0.0125), ('Organic Cripps Pink Apples', 0.0125), ('Boneless Skinless Chicken Breasts', 0.025), ('Organic Coconut Milk', 0.0375), ('Hearty Minestrone with Vegetables Soup', 0.0125), ('Organic Eggplant', 0.0125), (\"Jacob's Wonderbar Dark Roast\", 0.0125), ('Low Fat Plain Yogurt', 0.0125), ('Organic Traditional Gluten Freen Quinoa', 0.0125), ('Turkey', 0.0125), ('Shaved Brussel Sprouts', 0.0125), ('French Vanilla Soy Creamer', 0.0125), ('Crackers Cheddar Bunnies Snack Packs', 0.0375), ('Grade A Large Eggs Cage Free Omega 3', 0.0125), ('Organic American Cheese Singles', 0.0375), ('Corn Tortillas', 0.0125), ('Reduced Fat Irish Butter', 0.0125), ('Plain Breadsticks', 0.0125), ('Icelandic Style Fat Free Plain Yogurt', 0.0125), ('Mexican Finely Shredded Cheese', 0.0125), ('Mild Italian Chicken Sausage', 0.025), ('Brown Rice Spaghetti Pasta', 0.0125), ('Organic Half & Half', 0.0125), ('Jalapeno Peppers', 0.025), ('Bosc Pear', 0.0125), ('Natural Classic Pork Breakfast Sausage', 0.0125), ('Organic Whole Peeled Tomatoes with Basil', 0.0125), ('All Natural Virgin Lemonade', 0.0125), ('Organic Pearled Barley', 0.0125), ('Chocolate Fudge Brownie Ice Cream', 0.0125), ('Plain Pre-Sliced Bagels', 0.0125), (\"Organic D'Anjou Pears\", 0.025), ('Dishwasher Gel Free & Clear', 0.0125), ('Red Peppers', 0.0125), ('Energy Drink, Organic, Low Calorie, Acai Berry', 0.0125), ('Spinach', 0.0125), ('Double Dark Chocolate Gelato', 0.0125), ('Organic Lemon Cayenne Sparkling Probiotic Drink', 0.0125), ('Regular Concentrated Bleach', 0.0125), ('Villalobos, Caturra, Catuai Coffee', 0.0125), ('Gluten Free Fusilli Brown Rice Pasta', 0.0125), ('93% Ground Beef', 0.025), ('Organic Vegetable Tray', 0.0125), ('Michigan Organic Kale', 0.025), ('Organic Broccoli Florets', 0.0375), ('Organic Raisin + Prune Baby Brekkie', 0.0125), ('Penne Rigate', 0.0125), ('Organic Broccoli', 0.0375), ('Organic Penne Rigate', 0.0125), ('French Vanilla Light Roast K-Cup Packs Arabica Coffee', 0.0125), ('Icelandic Style Cream-Skyr 2% Milkfat Strained Low-Fat Yogurt Vanilla & Cardamon', 0.0125), ('Chicken Breast Tenders Breaded', 0.0125), ('All Natural Cinnamon Raisin Bread', 0.0125), ('Natural Sliced Gouda Cheese', 0.0125), ('70% Dark Chocolate', 0.0125), ('Organic Ground Ceylon Cinnamon', 0.0125), ('4 Cheese Mexican Shredded Cheese', 0.0125), ('Original Multigrain Spoonfuls Cereal', 0.0125), ('Fresh Frozen Wild Blueberries', 0.025), ('Organic Red Lentil Rotini Pasta', 0.025), ('Organic Freeze Dried Strawberries', 0.0125), ('Cheese Ravioli', 0.025), ('Organic Rainbow Carrots', 0.0125), ('Organic Bunny Fruit Snacks Berry Patch', 0.0125), ('Panko Bread Crumbs', 0.0125), ('Gluten Free 4 Cheese Medley Pizza', 0.0125), ('Organic Kale Greens', 0.025), ('Unsweetened Almondmilk', 0.025), ('Lettuce Red Butter Organic', 0.0125), ('Organic Romaine Lettuce', 0.025), ('Havarti Cheese Slices', 0.0125), ('100% Raw Coconut Water', 0.05), ('Pure Goat Milk Cheese Log', 0.0125), ('Large Lemon', 0.1125), ('Lactose Free 2% Reduced Fat Milk', 0.0125), ('Little Yums Pumpkin and Banana Teething Wafers', 0.0125), ('Reduced Fat 2% Chocolate Milk', 0.0125), ('Organic Broccoli And Carrots', 0.0125), ('Chick Peas Reduced Sodium Garbanzos', 0.0125), ('Organic Celery Hearts', 0.0375), ('Fresh Mozzarella Cheese', 0.0125), ('Gluteen Free Center Cut Applewood Smoked Uncured Bacon', 0.0125), ('Organic English Cucumber', 0.0125), ('Creamy Almond Butter', 0.025), ('Orange Strawberry Banana Juice', 0.0125), ('Organic Quinoa & Brown Rice With Garlic', 0.0125), ('Ravioli, Spinach & Cheese', 0.025), ('Dressing, Jersey Sweet Onion, Calorie Free', 0.0125), ('Bunny-Luv Fresh Organic Carrots', 0.0125), ('Grade A Pasturized Light Sour Cream', 0.0125), ('Organic Yukon Select Fries', 0.0125), ('Organic Freeze Dried Bananas and Strawberries', 0.0125), ('Crispy Fruit Freeze-Dried Asian Pear', 0.0125), ('Organic Tomato Cluster', 0.05), ('Italian Pearled Farro', 0.0125), ('Organic Sunday Bacon', 0.025), ('Oats & Honey Gluten Free Granola', 0.0125), ('Organic Fresh Squeezed Orange Juice', 0.025), ('Total 2% Lowfat Plain Greek Yogurt', 0.0125), ('Seedless Small Watermelon', 0.0125), ('Facial Tissues', 0.0125), ('Roasted Turkey Breast', 0.0125), ('Cultured Soy Vanilla Yogurt', 0.0125), ('Organic Ginger Herbal Tea', 0.0125), ('Whole Peeled Tomatoes', 0.0125), ('Large Organic Omega3 Brown Eggs', 0.0125), ('Cereal', 0.0125), ('Organic California White Basmati Rice', 0.0125), ('Vanilla Almond Breeze Almond Milk', 0.0125), ('Organic Mango', 0.0125), ('Traditional Scottish Style Smoked Salmon', 0.0125), ('Hair Bender Whole Bean Coffee', 0.0125), ('Thin Crust Pepperoni Pizza', 0.0125), ('Organic Leek', 0.0375), ('Watermelon Chunks', 0.025), ('Rigatoni Pasta', 0.0125), ('Hass Avocado', 0.025), ('Olive Oil Rosemary and Garlic Oven Fries', 0.0125), ('Select Tender Chicken with Vegetables & Brown Rice Dog Food Recipe', 0.0125), ('Organic Spaghetti Squash', 0.0375), ('Wholesome Breakfast Apple Raisin Baby Food', 0.0125), ('Organic Sliced Peaches', 0.0125), ('Organic Free Range Chicken Broth', 0.0125), ('Organic Light Sodium Creamy Harvest Corn Soup', 0.0125), ('Asparagus', 0.075), ('70% Dark Chocolate Bar', 0.0125), ('Tortillas, Wheat Free, Sprouted Corn', 0.0125), ('Ginger Ale', 0.0125), ('Organic Shredded Mozzarella', 0.0125), ('Shelled Edamame', 0.0125), ('YoBaby Blueberry Apple Yogurt', 0.0125), ('Blueberry Yoghurt', 0.0125), ('Frequency Blend', 0.0125), ('Salted Caramel Greek Nonfat Yogurt', 0.0125), ('Soft-Baked Ripe Strawberry Cereal Bars', 0.0125), ('Carrots', 0.025), ('Everyday  Facial Tissues', 0.0125), ('Uncured Beef Hot Dogs', 0.025), ('Organic Ground Fennel', 0.0125), ('Pure Irish Butter', 0.025), ('Organic Red Onion', 0.0375), ('Sweet Grape Tomatoes', 0.0125), ('Pesto Tortellini  Bowls', 0.0125), ('Original Rice Pilaf Mix', 0.025), ('Uncrustables Peanut Butter & Strawberry Spread Sandwich', 0.0125), ('Bunched Cilantro', 0.0125), ('Fresh Ginger Root', 0.025), ('Organic Salted Butter', 0.025), ('Organic Lite Coconut Milk', 0.0125), ('Vat Cultured European Style Salted Butter', 0.0125), ('Light Buttermilk Ranch Salad Dressing', 0.0125), ('Macaroni Shells & White Cheddar Cheese', 0.0125), ('Bag of Organic Bananas', 0.1875), ('Organic Baby Carrots', 0.0625), ('Vanilla Caramel Swirl Gelato', 0.0125), ('Chocolate Covered Banana Bites', 0.0125), ('Crunchy Taco Shells', 0.0125), ('Organic Peach Oo La Long Tea', 0.0125), ('Rice Based Formula Vanilla Probiotic', 0.0125), ('Organic Egg Whites', 0.025), ('Turkey Store Lean Ground Turkey', 0.0125), ('Organic Finely Shredded Cheddar Cheese', 0.0125), ('Authentic French Brioche Hamburger Buns', 0.0125), ('Organic Kiwi', 0.0375), ('Pink Lady Apple Kombucha', 0.0125), ('Strained Whole-Milk Yogurt Blueberry', 0.0125), ('Organic Bosc Pear', 0.025), ('Sweet Onion', 0.025), ('Organic Grape Tomatoes', 0.075), ('Sweet Italian Pork Sausage', 0.0125), ('Fresh 99% Lean Ground Turkey', 0.0125), ('Rosemary Ham', 0.0125), ('Broccoli Pancakes', 0.0125), ('Pecorino Romano', 0.0125), ('Organic Spinach Bunch', 0.0125), ('Vegetarian Refried Beans', 0.0125), ('Donut House Light Roast Coffee K Cups', 0.0125), ('Organic Mushroom & Olive Pizza', 0.0125), ('Organic Whole Peeled Tomatoes', 0.0125), ('Pizza, Italiano, Meatless Italian Sausage & Mushroom', 0.0125), ('Mini Seedless Cucumbers', 0.0125), ('Organic Peeled Whole Baby Carrots', 0.0625), ('Organic Strawberry Greek Yogurt', 0.0125), ('Organic Orange Juice With Calcium & Vitamin D', 0.0125), ('Sensible Foods Kale Veggie Burgers - 4 CT', 0.0125), ('90% Lean Ground Beef', 0.0125), ('Organic Milk', 0.0375), ('Electrolyte Enhanced Water', 0.0375), ('Country Honey Whole Wheat Bread', 0.0125), ('Tortilla Chips, Corn, Red Hot Blues', 0.025), ('Plantain Chips', 0.0125), ('Garlic Hummus', 0.0125), ('Original Semisoft Cheese', 0.0125), ('Toothpaste, Sensitive, Orange Mint Gel', 0.0125), ('Iodized Salt & Pepper', 0.0125), ('Annie Peely Fruit 4.5 Z', 0.0125), ('Original Rotisserie Chicken', 0.0125), ('Liquid Egg Whites', 0.0125), ('Shredded Parmesan Cheese', 0.025), ('Yellow Bell Pepper', 0.025), ('Beef Tenderloin Steak', 0.0125), ('Organic Red Heirloom Pasta Sauce', 0.025), ('Organic 21 Grain Thin Sliced Bread', 0.0125), (\"Rockin' Raspberry 3.1 Fl Oz\", 0.0125), ('Organic Spinach & Feta Chicken Sausage', 0.0125), ('Pear & Mango Stage 2 Baby Food', 0.0125), ('Fresh Cauliflower', 0.0125), ('Citrus Mandarins Organic', 0.025), ('Organic Spring Mix', 0.0125), ('Lemon Hummus', 0.025), ('Belgian Endive', 0.0125), ('Organic Black Pepper', 0.0125), ('Organic Yellow Squash', 0.025), ('Organic Raspberry Yogurt', 0.0125), ('White Regular Paper Towel Rolls', 0.0125), ('Shells & Real Aged Cheddar Macaroni & Cheese', 0.0125), ('Breaded Vegan Fish Fillets', 0.0125), ('Organic Cucumber', 0.075), ('Sliced Beets No Salt Added', 0.0125), ('Thirst Quencher Lemon-Lime', 0.0125), ('Sliced White Mushrooms', 0.0125), ('Oatmeal Dark Chocolate Cookies', 0.0125), ('Ginger Root Beer, Naturally Flavored Zero Calorie Soda, Caffeine Free', 0.0125), ('Organic Plain Whole Milk Yogurt', 0.0125), ('Walnut Halves & Pieces', 0.025), ('No Pulp Calcium & Vitamin D Pure Premium 100% Pure Orange Juice', 0.0125), ('Organic Large Extra Fancy Fuji Apple', 0.025), ('Organic Cranberry Juice', 0.0125), ('Flax All Natural Roll Ups 8 Ct.', 0.0125), ('Organic Whole Strawberries', 0.0125), ('Artichokes', 0.0125), ('Milk Chocolate Almond Bar', 0.0125), ('Berry Medley', 0.0125), ('Blueberry Soy Yogurt', 0.0125), ('Organic Eggs', 0.0125), ('Selects Turkey Hot Dogs', 0.0125), ('Bathroom Tissue', 0.0125), ('Spaghetti  No 12', 0.025), ('Sonoma Traditional Flour Tortillas 10 Count', 0.0125), ('Plates, Ultra, 10-1/16 Inch', 0.0125), ('Organic Wildberry Yogurt', 0.0125), ('Passata Tomato Puree', 0.0125), ('Cut Green Beans', 0.0125), ('Organic Spring Mix Salad', 0.0125), ('Bite Size Tortilla Chips', 0.0125), ('Spring Water', 0.0125), ('Organic Cheddar Squares', 0.0125), ('Provolone', 0.0125), ('Ground Buffalo', 0.0125), ('Whole Milk Yogurt', 0.0125), ('Organic Dill', 0.0125), ('Seedless Red Grapes', 0.05), ('Multi-Grain Soft Taco', 0.0125), ('2% Reduced Fat Organic Milk', 0.0375), ('Organic Red Delicious Apple', 0.0125), ('Whole Wheat Pita Bread', 0.0125), ('Unsweetened Vanilla Almond Milk', 0.0375), ('Pineapple Chunks', 0.0375), ('Organic Baked Beans With Pork', 0.0125), ('Natural Premium Coconut Water', 0.0125), ('Go Lean Crunch! Honey Almond Flax Cereal', 0.025), ('Clementines, Bag', 0.025), ('34% Cacao Milk Chocolate Bar', 0.0125), ('Lime', 0.0125), ('Organic Small Bunch Celery', 0.025), ('Spinach Peas & Pear Stage 2 Baby Food', 0.0125), ('Broccoli Crown', 0.0125), ('Sourdough Hard Pretzels Fat Free', 0.0125), ('Ripe Large Pitted Olives', 0.0125), ('Green Leaf Shreds', 0.0125), ('Organic Chicken & Apple Sausage', 0.0125), ('Organic 2% Reduced Fat Milk', 0.0125), ('Organic Hass Avocado', 0.1125), ('Real French Vinaigrette Dressing', 0.0125), ('Mini Original Babybel Cheese', 0.0125), ('Plain Greek Yogurt', 0.0125), ('Jalapeno Hummus', 0.0125), ('Organic Sweet Pea', 0.0125), ('Punjab Eggplant', 0.0125), ('Organic Canola Oil', 0.0125), ('100% Recycled Paper Towels', 0.0375), ('Sonoma Organic Wraps Multigrain Tortillas With Flax', 0.0125), ('Organic Yams', 0.0125), ('Greek 100 Calories Black Cherry Fat Free Yogurt', 0.0125), ('Chopped Organic Garlic', 0.0125), ('Chopped Kale', 0.0125), ('Baked Aged White Cheddar Rice and Corn Puffs', 0.0125), ('Organic Frozen Peas', 0.025), ('Organic Extra Firm Tofu', 0.0125), ('California Orange Juice', 0.0125), ('Organic Large Green Asparagus', 0.0125), ('Peach Mango Stage 2 Baby Food', 0.0125), ('Infant Formula', 0.0125), ('Lime Sparkling Water', 0.0125), ('Dried Mango', 0.025), ('Emmentaler Swiss Slices', 0.0125), ('Gluten Free Oatmeal Cookie Granola Bars Granola Bars', 0.0125), ('Organic Balance Milk Protein Shake Dark Chocolate', 0.0125), ('Whole Grains Health Nut Bread', 0.0125), ('Vegetarian Organic Chili Beans', 0.0125), ('Organic Stage 3 Pear Carrot Apricot Baby Food', 0.0125), ('Gluten Free Uncured Bacon Mac and Cheese', 0.0125), (\"Newman O's Creme Filled Chocolate Cookies\", 0.0125), ('Organic Greek Nonfat Yogurt With Mixed Berries', 0.0125), ('G Series Fierce Grape Sports Drink', 0.0125), ('Pulp Free Orange Juice', 0.0125), ('Sweet Onions', 0.0125), ('Butternut Squash', 0.0375), ('Caribou Blend Coffee K-Cups', 0.0125), ('Organic Whipping Cream', 0.0125), ('Kale Greens', 0.0125), ('Buttermilk Complete Pancake & Waffle Mix', 0.0125), ('Seasoned Tomato Sauce', 0.0125), ('Pork Chorizo', 0.0125), ('Hot Sauce Chili Garlic', 0.0125), ('Boneless Skinless Chicken Breast', 0.0125), ('Organic Apple Chicken Sausage', 0.0125), ('Organic Diced Fire Roasted Tomatoes', 0.0125), ('Organic Lowfat Yogurt Banana Vanilla', 0.0125), ('Lightly Salted Baked Snap Pea Crisps', 0.0125), ('Organic Chocolate Chip Granola Bars', 0.0125), ('Organic Cilantro', 0.0625), ('Air Chilled Breaded Chicken Breast Nuggets', 0.025), ('Simply Salt Rice Snacks', 0.0125), ('Caramel Cookie Crunch Gelato', 0.0125), ('Greek Plain Whole Milk Yogurt', 0.0125), ('Thin Spaghetti No 11', 0.0125), (\"Major Dickason's Blend Ground Coffee Dark Roast\", 0.0125), ('Red Seedless Grapes', 0.0125), ('Espresso Ground Coffee', 0.0125), ('Light & Fit Strawberry Non Fat Greek Yogurt', 0.0125), ('Israeli Couscous', 0.0125), ('Original Cream Cheese', 0.0125), ('Boomchickapop Sweet & Salty Kettle Corn', 0.0125), ('Sparkling Mineral Water', 0.0125), ('Parsnip', 0.0125), ('Organic Multigrain Waffles', 0.0125), ('Organic Avocados', 0.0125), ('Spinach & Cheese Pupusas', 0.0125), ('Green Bell Pepper', 0.0125), ('Organic Cara Cara Orange', 0.0125), ('Baby Food Meals', 0.0125), ('Invigorating Rosewater Body Wash', 0.0125), ('Organic Creamy Tomato Soup', 0.0125), ('Red Leaf Lettuce', 0.0125), ('Organic Fuji Apple', 0.0375), ('Goat Milk Feta Crumbled', 0.0125), ('Pico De Gallo', 0.0125), ('Unsweetened Almond Milk', 0.0125), ('Strawberries', 0.0875), ('Orange Bell Pepper', 0.0375), ('Rice Crusted Fish Fillets', 0.0125), ('Multivitamin, Kids Complete, Gummies', 0.0125), ('Organic Lactose Free Whole Milk', 0.0125), ('Organic Fuji Red Apple Chips', 0.0125), ('Apple Honeycrisp Organic', 0.05), ('Whole Milk', 0.0125), ('Organic Strawberry Smoothie', 0.0125), ('Snacks Mango', 0.0125), ('Eucalyptus Essential Oil', 0.0125), ('Vanilla Pure Almond Milk', 0.0125), ('Original Hummus', 0.0375), ('Orange Blossom Honey', 0.0125), ('Natural Extra Sharp Cheddar Cheese', 0.0125), ('Organic Zucchini', 0.1375), ('Organic Wheat-Free & Gluten-Free Original Crackers', 0.025), ('Tri-Color Rotini Pasta', 0.0125), ('Sour Cream & Onion Potato Chips', 0.0125), ('Organic  Whole Milk', 0.0125), ('European Style Salted Butter', 0.0125), ('Cereal, Superfood, Acai Blueberry', 0.0125), ('Organic Chocolate  Chip Cookie Vanilla Bean Ice Cream Sandwiches', 0.0125), ('Diet Cranberry Fruit Juice', 0.0125), ('Pitted Dates', 0.0125), ('Half & Half', 0.025), ('Red Vine Tomato', 0.025), ('Vanilla Unsweetened Almond Milk', 0.0125), ('Wild Berry Zinger Herbal Tea Bags', 0.0125), ('Organic Navel Orange', 0.0375), ('Total 2% Lowfat Greek Strained Yogurt With Blueberry', 0.025), ('Globe Eggplant', 0.0125), ('Organic Summer Strawberry Bunny Fruit Snacks', 0.0125), ('Jumbo White Onions', 0.0125), ('Beef Broth', 0.0125), ('Organic Tomato Sauce', 0.025), ('Sharp Cheddar Cheese', 0.0125), ('Sonoma Handmade Style Corn Tortillas', 0.0125), ('Tater Puffs', 0.0125), ('Organic Dijon Mustard', 0.025), ('Organic Yellow Peaches', 0.025), ('Diced San Marzano Style Organic Plum Tomatoes', 0.0125), ('Tuscan Bean & Rice Soup', 0.0125), ('Organic Spaghetti Pasta', 0.025), ('Sicilian Pistachio', 0.0125), ('California Style Minced Garlic', 0.0125), ('European Cucumber', 0.025), ('Organic Cottage Cheese Classic', 0.0125), ('Mango Probiotic Juice Drink', 0.0125), ('Fuyu Persimmon', 0.0125), ('Classic Almond Butter', 0.0125), ('Basil Pesto', 0.0375), ('Organic Raspberries', 0.1375), ('Decaf Roast Coffee', 0.0125), ('Naturals Chicken Nuggets', 0.0125), ('Mini Sweet Peppers', 0.0125), ('Organic Quinoa', 0.0125), ('Whole Organic Omega 3 Milk', 0.0125), ('Mixed Berries Whole Milk Icelandic Style Skyr Yogurt', 0.0125), ('Sparkling Lemon Water', 0.0125), ('Cheerios Cereal', 0.0125), ('Crunchy Peanut Butter Granola', 0.0125), ('Veri Veri Teriyaki Marinade & Sauce', 0.0125), ('Colby Cheese Sticks', 0.025), ('Organic Large Brown Grade AA Cage Free Eggs', 0.0125), ('Organic Light In Sodium Traditional Refried Beans', 0.0125), ('Salty Date Raincoast Crisps', 0.0125), ('Bunny Pasta with Yummy Cheese Macaroni & Cheese', 0.0125), ('Organic Bread with 21 Whole Grains', 0.0125), ('Banana Mango Yogurt', 0.0125), ('Gluten Free Inca Red', 0.0125), ('Zucchini Noodles', 0.025), ('Peanut Butter Fudge Core Ice Cream', 0.025), ('Meatles  Soy Gluten-Free Grounds', 0.0125), ('Avocado', 0.0125), ('Organic Orange Bell Pepper', 0.025), ('Organic Soups Low Fat Cream Of Tomato', 0.0125), ('Original Air Effects With Gain Air Freshening Spray', 0.0125), ('Organic Medium Salsa', 0.025), ('Heart to Heart Organic Oat Flakes & Blueberry Clusters Cereal', 0.0125), ('Sweet Cream Whipped Butter Salted', 0.0125), ('Angel Hair Pasta', 0.025), ('Lightly Sweet Popcorn', 0.0125), ('Lean Ground Turky', 0.0125), ('Mashed Potatoes', 0.0125), ('Organic Blackberries', 0.0375), ('Organic Gala Apples', 0.0625), ('Broccoli & Cheddar Bake Meal Bowl', 0.0125), ('Butternut Squash Pear Stage 2 Baby Food', 0.0125), ('Organic Turbinado, Raw Cane Sugar', 0.0125), ('Honey Nut Cheerios', 0.025), ('Skin Oil', 0.0125), ('Pineapple on the Bottom Greek Yogurt', 0.0125), ('ProteinPLUS Multigrain Penne Pasta', 0.0125), ('Blush Wine Vinaigrette Dressing', 0.0125), (\"Organic Lori's Lemon Tea\", 0.0125), ('Organic Whole Crimini Mushrooms', 0.0125), ('Hickory Smoked Ultra Thin Deli Slices', 0.0125), ('Kids Berry Probiotic Chewables', 0.0125), ('Whole Wheat Eggo Waffles', 0.0125), ('Organic Macaroni Shells & Real Aged Cheddar', 0.0125), ('Organic Quick Cooking Steel Cut Oats', 0.0125), ('Organic Dark Chocolate Peanut Butter Cups', 0.0125), ('Holler Mountain Organic Coffee', 0.0125), ('Baby Arugula', 0.025), ('Clementina Sparkling Beverage', 0.0125), ('YoKids Squeeze! Organic Strawberry Flavor Yogurt', 0.0125), ('Organic White English Muffins', 0.0125), ('Organic Grass Fed Greek Yogurt Peach', 0.0125), ('Deli Fresh Shaved Smoked Turkey Breast', 0.0125), ('Vanilla Greek Yogurt 0% Fat', 0.0125), ('Almondmilk Creamer, Vanilla', 0.0125), ('Long Grain & Wild Rice', 0.0125), ('Uncured Hickory Smoked Bacon', 0.0125), ('California Veggie Burgers - 4 CT', 0.0125), ('The Tonight Dough™ Ice Cream', 0.0125), ('0% Greek, Blueberry on the Bottom Yogurt', 0.0125), ('Raspberries Dark Chocolate Bar', 0.0125), ('Dark Chocolate Covered Raisins', 0.0125), ('Pure Sparkling Water', 0.0125), ('Organic Garnet Sweet Potato (Yam)', 0.025), ('Garlic Bread', 0.0125), ('Blue Chips Corn Tortilla Chips', 0.0125), ('Corn Chips', 0.0125), ('Plain Low Fat Australian Style Yogurt', 0.0125), ('Salted Sweet Cream Butter', 0.0125), ('Homemade Vodka Sauce', 0.0125), ('Organic Bartlett Pear', 0.0125), ('Fridge Pack Cola', 0.0125), ('Bicolor Sweet Corn', 0.0125), ('Fat Free Skim Milk', 0.0125), ('Tuna Fillets in Olive Oil', 0.0125), ('Goat Cheese and Roasted Tomato Mezzelune Pasta', 0.025), ('Italian Sparkling Mineral Water', 0.025), ('Macaroni & Cheese', 0.0125), ('Frozen Goo-Berry Pie Kefir', 0.0125), ('Organic Kosher Dill Pickles', 0.0125), ('YoKids Blueberry & Strawberry/Vanilla Yogurt', 0.0125), ('Tomato Paste', 0.025), ('Sea Salt Caramel Ice Cream', 0.025), ('Total Greek Yogurt With Honey', 0.0125), ('Gala Apples', 0.025), ('Broccoli Cuts', 0.0125), ('Gluten Free Millet-Chia Bread', 0.0125), ('Grade A Large White Eggs', 0.0125), ('Dijon Mustard', 0.0125), ('Organic Cheese Frozen Pizza', 0.0125), ('Sliced Halves Whole Wheat Pita Pockets', 0.025), ('Spring Mix', 0.0125), ('Lemonade', 0.0125), ('Total 2% Greek Strained Yogurt with Cherry 5.3 oz', 0.0125), ('Baby Food Stage 2 Blueberry Pear & Purple Carrot', 0.0125), ('Pure Sesame Seed Oil', 0.0125), ('85% Lean Ground Beef', 0.0125), ('Extra Virgin Olive Oil', 0.025), ('Little Yums Spinach, Apple, and Kale Teething Wafers', 0.0125), ('Organic Lowfat 1% Milk', 0.0125), ('Naked Pure Coconut Water', 0.0125), ('Chocolate Lovers Brownie Mix', 0.0125), ('Uncured Genoa Salami', 0.0375), ('Sweetened Condensed Coconut Milk', 0.0125), ('American Cheese slices', 0.0125), ('Ultra Original Scent Dishwashing Liquid', 0.0125), ('Happy Baby Spinach, Mango, and Pear Baby Food', 0.0125), ('Salted Butter', 0.0125), ('Black Beans', 0.0125), ('Black Plum', 0.025), ('Potato Yukon Gold Organic', 0.0125), ('Peach Pear Flavored Sparkling Water', 0.0125), ('Sharp Cheddar', 0.0125), ('Grated Pecorino Romano Cheese', 0.0125), ('Organic Whole Wheat Penne Rigate', 0.0125), ('Total 0% Greek Yogurt', 0.0125), ('Power Grains Waffles 6 ct', 0.0125), ('Cherubs Heavenly Salad Tomatoes', 0.0125), ('Classic Peanut Butter', 0.0125), ('Homestyle Breaded Chicken Breast Tenders', 0.0125), ('13 Gallon Tall Kitchen Drawstring Bags', 0.0125), ('Premium Ice Cubes', 0.0125), ('Gluten Free Soft & Chewy Snicker Doodle Cookies', 0.0125), ('Wild Albacore Tuna No Salt Added', 0.0125), ('Cream Cheese Spread', 0.0125), ('Deli Slices, Bologna Style', 0.0125), ('Part Skim Ricotta Cheese', 0.0125), ('Dark Sweet Cherries', 0.0125), ('Queso Fresco', 0.0125), ('Coconut Flavored Sparkling Water', 0.0125), ('Arrabiata Pasta Sauce', 0.0125), ('Cinnamon Rolls with Icing', 0.0125), ('Uncured Slow Cooked Ham', 0.025), ('White English Muffins', 0.025), ('Organic Snipped Green Beans', 0.0375), ('Mandarin Oranges', 0.0125), ('Chicken Tortilla Soup', 0.0125), ('Organic Unsweetened Vanilla Almond Milk', 0.0125), ('Green Tea Bags', 0.0125), ('Cookies & Cream Ice Cream', 0.025), ('No Salt Added Black Beans', 0.025), ('Chopped Spinach', 0.0125), ('Hot Roasted Habanero Salsa', 0.0125), ('Spinach Pizza Snacks', 0.0125), ('Cheese, Thin Sliced Muenster', 0.0125), ('Organic Whole Wheat Elbows', 0.0125), ('Diet Ginger Ale All Natural Soda', 0.0125), ('Feta Cheese Crumbles', 0.0125), ('Roma Tomato', 0.0125), ('Sparkling Water Grapefruit', 0.025), ('Flaxmilk 1200 mg Omega-3 Vanilla', 0.0125), ('Rosemary & Sea Salt Fries', 0.0125), ('Ultra Strong Toilet Paper Double Rolls Bathroom Tissue', 0.0125), ('Rice Krispies Cereal', 0.0125), ('Grass Fed Ground Beef', 0.0125), ('All-In-One French Vanilla Nutritional Shake Sachet', 0.0125), ('Whole Chia Seeds', 0.0125), ('Chocolate Chip Cookie Dough Ice Cream', 0.0125), ('Real Mayonnaise', 0.0125), ('Original Burger', 0.0125), ('Organic Shiitaki Mushrooms', 0.0125), ('Black Forest Ham', 0.0125), ('100% Lactose Free Fat Free Milk', 0.0125), ('Organic Whole White Mushrooms', 0.0125), ('Prosciutto, Americano', 0.0125), ('Macaroni Elbows', 0.0125), ('Fusilli No. 34', 0.0125), ('Organic Unsalted Butter', 0.025), ('Organic Lightly Salted Sea Salt Thin & Crispy Restaurant Style Tortilla Chips', 0.0125), ('Aged White Cheddar Baked Rice & Corn Puffs Gluten Free Lunch Packs', 0.025), ('Blackberries', 0.0125), ('Whole Grain Brown Rice', 0.0125), ('Classic Hummus', 0.0125), ('Organic Premium Tomato Paste', 0.0125), ('Navel Oranges', 0.0125), ('Linguine with Spinach', 0.0125), ('Organic Grade A Free Range Large Brown Eggs', 0.0375), ('Pita Crisps Simply Naked', 0.0125), ('Organic Reduced Fat Milk', 0.0125), ('Broccoli & Apple Stage 2 Baby Food', 0.025), ('Real Coconut Water', 0.0125), ('Fresh Mozzarella Ball', 0.025), ('Zero Vitamin Water', 0.0125), ('Light Semisoft Cheese', 0.0125), ('Total 2% All Natural Plain Greek Yogurt', 0.0125), ('Clump & Seal Multi-Cat Cat Litter', 0.0125), ('Sliced Black Olives', 0.0125), ('Organic AppleApple', 0.0125), ('100% Natural Seltzer Calorie-Free Raspberry Lime', 0.0125), ('Bartlett Pears', 0.0125), ('Organic Yellow Onion', 0.0875), ('Strawberry Rhubarb Yogurt', 0.0125), ('Gluten-Free Lemon Thyme Linguine', 0.0125), ('Organic Garlic', 0.075), ('Teriyaki Chicken Bowl', 0.0125), ('Grassfed Whole Milk Plain Yogurt', 0.0125), ('Venison & Salmon Stew with Potatoes and Carrots Dog Food', 0.0125), ('Kids Organic Chocolate Chip ZBars', 0.025), ('Organic Ezekiel 4:9 Sesame Bread', 0.0125), ('Sliced Baby Bella Mushrooms', 0.025), ('Organic Mixed Berry Yogurt & Fruit Snack', 0.0125), ('Smartwater', 0.025), ('Organic Mountain Forest Amber Honey', 0.0125), ('Medium Buffalo Wing Sauce', 0.0125), ('Snow Peas', 0.0125), ('Organic Thompson Seedless Raisins', 0.025), ('Honeycrisp Apple', 0.075), ('Cotija Cheese', 0.0125), ('Organic Russet Potato Bag', 0.0125), ('Honey Wheat Bread', 0.0125), ('Organic Frozen Mango Chunks', 0.0125), ('Baby Spinach', 0.025), ('Prosciutto di San Daniele', 0.0125), ('Synergy Organic & Raw Cosmic Cranberry', 0.0125), ('Tarragon Chicken Salad', 0.0125), ('Shredded Parmesan', 0.025), ('Premium Soft Pretzel Bites', 0.0125), ('Iceberg Lettuce', 0.025), ('Carrot Raisin Flax Muffins', 0.0125), ('Organic Yukon Gold Potato', 0.0125), ('Organic Jammy Sammy Snack Size Sandwich Bar Stawberry Jam & Peanut Butter', 0.0125), ('Vine Ripe Tomatoes', 0.0125), ('Organic Basil', 0.025), ('Grands! Homestyle Buttermilk Biscuits', 0.0125), ('Sweet and Tangy Barbecue Wings', 0.0125), ('Kosher Dill Pickles', 0.0125), ('Water', 0.025), ('Organic Artichoke', 0.0125), ('Farfalle No. 93', 0.0125), (\"Annie's Bunny Fruit Snacks Variety\", 0.0125), ('Pepper Jack Cheese Slices', 0.0125), ('Meatballs Italian Style', 0.0125), ('Steamfresh Selects Frozen Broccoli, Cauliflower & Carrots', 0.0125), ('Ezekiel 4:9 Bread Organic Sprouted Whole Grain', 0.05), ('Organic Whole Kernel Sweet Corn No Salt Added', 0.0375), ('Pita Chips, Simply Naked', 0.0125), ('Lightly Salted Rice Cakes', 0.0125), ('Original New Orleans Style Dirty Rice Mix', 0.0125), (\"Annie's® Homegrown Gluten Free Double Chocolate Chip Granola\", 0.0125), ('Classic French White Bread', 0.0125), ('French Baguettes, Take & Bake, Twin Pack', 0.0125), ('Toasted Sesame Seed Oil', 0.0125), ('Organic Pack Peasant Bread', 0.0125), ('Ricotta And Spinach Tondi', 0.0125), ('Organic Whole Milk with DHA Omega-3', 0.0125), ('Sprouted Organic Cinnamon Raisin English Muffins', 0.0125), ('Tilapia Filet', 0.0375), ('Organic Avocado', 0.0625), ('Tuna Fillets in Spring Water', 0.0125), ('Organic Granny Smith Apple', 0.0375), ('Organic Baby Broccoli', 0.0125), ('Organic Blueberries', 0.1), ('Organic Roma Tomato', 0.0125), ('Outrageous B & B Pickles', 0.0125), ('Rosemary Raisin Raincoast Crisps', 0.0125), ('Vitamin C Super Orange Dietary Supplement', 0.0125), ('Organic Shiitake & Vegetable Potstickers', 0.0125), ('Wild Rice', 0.0125), ('Flax Plus Organic Pumpkin Flax Granola', 0.0125), ('Organic Gluten Free Linguine', 0.0125), ('Total 0% Nonfat Plain Greek Yogurt', 0.0125), ('Tomato Basil Marinara Sauce', 0.0125), ('Organic Strawberry Fruit Spread', 0.0125), ('Organic All Natural Blueberry Mini Waffles', 0.0125), ('Tart Cherry Yoghurt', 0.0125), ('Grassmilk 2% Reduced Fat Milk', 0.0125), ('Organic Baby Bella Mushrooms', 0.025), ('Strawberry Banana Coconut Milk Yogurt', 0.0125), ('No Pulp Calcium & Vitamin D Pure Orange Juice', 0.0125), ('Turkey Stew With Barley & Carrots Natural Dog Food', 0.0125), ('Uncured Pepperoni', 0.025), ('Chunky Tomato Bisque Soups', 0.0125), ('Sea Salt', 0.0125), ('\"The \"\"World\\'s Best\\\\\"\" Veggie Burger\"', 0.0125), ('Sourdough Bread', 0.0125), ('Strawberry Preserves', 0.0125), ('Flora Baby Powder', 0.0125), ('Organic Quick Oats', 0.025), ('Soy Free Buttery Spread', 0.0125), ('Mountain Spring Water', 0.0125), ('Organic Roasted Sliced Chicken Breast', 0.0125), ('Organic Unsweetened Almond Milk', 0.0625), ('Sparkling Water Berry', 0.0125), ('Chocolates', 0.0125), ('Super Greens', 0.0125), ('Vanilla Ice Cream Sandwich', 0.0125), ('Pods HE Laundry Detergent, Free & Gentle, 35 Count Laundry', 0.0125), ('Blueberry Almond Granola', 0.0125), ('Original Gluten Free Crackers', 0.0125), ('Total 2% Lowfat Greek Strained Yogurt with Peach', 0.025), ('Jet-Puffed Marshmallows', 0.0125), ('Corn Maize Tortillas', 0.0125), ('Organic Skim Milk with DHA Omega-3', 0.0125), ('Havarti Cheese', 0.0125), ('Glacier Freeze Frost', 0.0125), ('Minced Garlic', 0.025), ('Organic Original Hommus', 0.025), ('Organic Yellow Mustard', 0.0125), ('Sun Dried Tomato Basil Chicken Sausage', 0.0125), ('Chlorine Free Maxi Overnight Feminine Pads', 0.0125), ('Mini Blueberry Muffins', 0.0125), ('Spinach Dal Indian Cuisine', 0.0125), ('100% Whole Wheat Farfalle No. 87', 0.0125), ('All Natural Boneless & Skinless Chicken Breasts Family Pack', 0.0125), ('Cheddar Cheese Nut Thins Cracker Snacks', 0.0125), ('Multigrain Pita Chips', 0.0125), ('Organic Red Potatoes', 0.025), ('Organic Old Fashioned Rolled Oats', 0.0125), ('Snackimals Chocolate Chip Cookies', 0.0125), ('Cooking Sauce, La Pizza', 0.0125), ('Organic Breakfast Blend Whole Bean Coffee', 0.0125), ('Karamel Sutra Core Ice Cream', 0.0125), ('Organic Italian Parsley Bunch', 0.0125), ('Lemon Sparkling Water', 0.0125), ('Organic Lactose Free 1% Lowfat Milk', 0.025), ('Black Beans Reduced Sodium', 0.0125), ('Sparkling Natural Mineral Water', 0.0125), ('Greek 100 Calories Strawberry Banana Fat Free Yogurt', 0.0125), ('Organic Whole Milk Strawberry Beet Berry Yogurt Pouch', 0.0125), ('Roasted Red Pepper Hummus', 0.0125), ('Original Instant Oatmeal', 0.0125), ('Bread & Butter Pickle Chips', 0.0125), ('Organic Black Chia Seed', 0.0125), ('Tortillas, Corn, Organic', 0.0125), ('Madagascar Bourbon Vanilla Beans', 0.0125), ('Organic Roasted Turkey Breast', 0.025), ('Pasilla Pepper', 0.0125), ('Flavor Full Buffalo Cauliflower', 0.0125), ('Organic Light in Sodium Creamy Butternut Squash Soup', 0.0125), ('Brown Butter Almond Brittle Ice Cream', 0.0125), ('Organic Hearts Of Palm', 0.0125), ('Milk Chocolate Covered Raisins', 0.0125), ('Organic Fire Roasted Diced Tomatoes', 0.0125), ('Rhubarb', 0.0125), ('Shredded Mozzarella', 0.025), ('Baby Spring Mix', 0.0125), ('Unsalted Cultured Butter', 0.0125), ('Italian Pizza Crust Original 12oz', 0.0125), ('Organic Small Curd Cottage Cheese', 0.0125), ('Reduced Sugar Tomato Ketchup', 0.0125), ('Compostable Coffee Filters', 0.0125), ('Natural Creamy Peanut Butter Spread', 0.0125), ('Passionfruit Sparkling Water', 0.0125), ('Original Cooking Spray', 0.0125), (\"Naturе's Calorie-Free Sweetener\", 0.0125), ('Fat Free Milk', 0.0125), ('100% Whole Wheat Pre-Sliced Bagels', 0.0125)]]\n",
      "CPU times: user 40.5 ms, sys: 23.2 ms, total: 63.7 ms\n",
      "Wall time: 4min 19s\n"
     ]
    },
    {
     "name": "stderr",
     "output_type": "stream",
     "text": [
      "                                                                                \r"
     ]
    }
   ],
   "source": [
    "%%time\n",
    "print(random_product.collect()[0][1])\n",
    "print(op_prior_assoc_rules.lookup((random_product.collect()[0][1],)))"
   ]
  },
  {
   "cell_type": "markdown",
   "metadata": {
    "id": "4lj_JQaPDOBv"
   },
   "source": [
    "![2021-10-29_17:18:48-screenshot.png](data:image/png;base64,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)"
   ]
  }
 ],
 "metadata": {
  "colab": {
   "collapsed_sections": [],
   "name": "cgp_tp2.ipynb",
   "provenance": []
  },
  "kernelspec": {
   "display_name": "Python 3 (ipykernel)",
   "language": "python",
   "name": "python3"
  },
  "language_info": {
   "codemirror_mode": {
    "name": "ipython",
    "version": 3
   },
   "file_extension": ".py",
   "mimetype": "text/x-python",
   "name": "python",
   "nbconvert_exporter": "python",
   "pygments_lexer": "ipython3",
   "version": "3.9.7"
  }
 },
 "nbformat": 4,
 "nbformat_minor": 1
}
